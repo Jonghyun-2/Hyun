{
 "cells": [
  {
   "cell_type": "code",
   "execution_count": 1,
   "metadata": {},
   "outputs": [],
   "source": [
    "import tkinter\n",
    "from tkinter import ttk\n",
    "import glob\n",
    "import shutil\n",
    "import os"
   ]
  },
  {
   "cell_type": "code",
   "execution_count": 6,
   "metadata": {},
   "outputs": [],
   "source": [
    "def moveNrename (inputPath, outputPath,fileNum):\n",
    "    dst = outputPath + \"\\\\\" + fileNum\n",
    "    shutil.move(inputPath, dst)\n",
    "    print(\"Output File : \",dst)"
   ]
  },
  {
   "cell_type": "code",
   "execution_count": 7,
   "metadata": {},
   "outputs": [],
   "source": [
    "def main(OriginalPath,TargetPath):\n",
    "    print(OriginalPath,TargetPath)\n",
    "    if os.path.isdir(OriginalPath) == True and os.path.isdir(TargetPath) == True:\n",
    "\n",
    "        # 경로 내의 모든 pdf 획득\n",
    "        pdfs = glob.glob(OriginalPath + \"\\\\*.pdf\",recursive=False)\n",
    "\n",
    "        #예외 처리 : pdf가 없을경우 해당 조건문 진입\n",
    "        if len(pdfs) == 0:\n",
    "            print(\"Pdf file not Exist\")\n",
    "\n",
    "        else:\n",
    "            for i in pdfs:\n",
    "                print(\"Input file : \",i)\n",
    "                #파일 경로중 파일이름만 획득\n",
    "                fileName = i.split(\"\\\\\")[-1]\n",
    "\n",
    "                # 띄어쓰기가 3번 되어있을경우만 작동\n",
    "                fileNameSep = fileName.split(\" \")\n",
    "                if len(fileNameSep) == 3:\n",
    "                    # 0000 0000\n",
    "                    folderNum = fileNameSep[0] + '-' +fileNameSep[1]\n",
    "\n",
    "                    # n차.pdf\n",
    "                    fileNum = fileNameSep[-1]\n",
    "\n",
    "                    #목표 경로\n",
    "                    setPath = TargetPath + '\\\\' + folderNum\n",
    "\n",
    "                    #폴더가 없을경우 생성\n",
    "                    if os.path.exists(setPath) == False:\n",
    "                        os.mkdir(setPath)\n",
    "                        moveNrename(i,setPath,fileNum)\n",
    "\n",
    "                    #경로는 있지만 폴더는 아닌경우\n",
    "                    elif os.path.isdir(setPath) == False:\n",
    "                        print(\"[ERROR] Not Folder\")\n",
    "\n",
    "                    #경로가 있는경우\n",
    "                    else:\n",
    "                        moveNrename(i,setPath,fileNum)\n",
    "\n",
    "\n",
    "                # 아닐경우 다음 pdf파일 조사\n",
    "                else :\n",
    "                    print(\"Pass\")\n",
    "                    continue\n",
    "    else :\n",
    "        print(\"Wrong Path\")\n"
   ]
  },
  {
   "cell_type": "code",
   "execution_count": 8,
   "metadata": {},
   "outputs": [
    {
     "name": "stdout",
     "output_type": "stream",
     "text": [
      "C:\\Users\\Jong_Hyun\\Desktop\\Scan C:\\Users\\Jong_Hyun\\Desktop\\Scan_target\n",
      "Input file :  C:\\Users\\Jong_Hyun\\Desktop\\Scan\\2019 0123 10차.pdf\n",
      "Output File :  C:\\Users\\Jong_Hyun\\Desktop\\Scan_target\\2019-0123\\10차.pdf\n"
     ]
    }
   ],
   "source": [
    "window=tkinter.Tk()\n",
    "window.title(\"move\")\n",
    "window.geometry(\"640x200\")\n",
    "# window.resizable(False, False)\n",
    "strin = tkinter.StringVar()\n",
    "strout = tkinter.StringVar()\n",
    "original=tkinter.Label(window,text=\"입력 경로 : \")\n",
    "original.grid(column = 0 , row = 0)\n",
    "\n",
    "target=tkinter.Label(window,text=\"출력 경로 : \")\n",
    "target.grid(column = 0 , row = 1)\n",
    "\n",
    "textbox = ttk.Entry(window, width=80, textvariable=strin)\n",
    "textbox.grid(column = 1 , row = 0)\n",
    "\n",
    "textboxout = ttk.Entry(window, width=80, textvariable=strout)\n",
    "textboxout.grid(column = 1 , row = 1)\n",
    "\n",
    "button = tkinter.Button(window,text = 'Run',command = lambda: main(str(strin.get()),str(strout.get())))\n",
    "button.grid(column = 0 , row = 2)\n",
    "\n",
    "window.mainloop()"
   ]
  },
  {
   "cell_type": "code",
   "execution_count": 33,
   "metadata": {},
   "outputs": [
    {
     "data": {
      "text/plain": [
       "'123'"
      ]
     },
     "execution_count": 33,
     "metadata": {},
     "output_type": "execute_result"
    }
   ],
   "source": [
    "lambda: main(strin,strout)"
   ]
  },
  {
   "cell_type": "code",
   "execution_count": 34,
   "metadata": {},
   "outputs": [
    {
     "data": {
      "text/plain": [
       "'456'"
      ]
     },
     "execution_count": 34,
     "metadata": {},
     "output_type": "execute_result"
    }
   ],
   "source": [
    "strout.get()"
   ]
  },
  {
   "cell_type": "code",
   "execution_count": null,
   "metadata": {},
   "outputs": [],
   "source": []
  }
 ],
 "metadata": {
  "kernelspec": {
   "display_name": "Python 3",
   "language": "python",
   "name": "python3"
  },
  "language_info": {
   "codemirror_mode": {
    "name": "ipython",
    "version": 3
   },
   "file_extension": ".py",
   "mimetype": "text/x-python",
   "name": "python",
   "nbconvert_exporter": "python",
   "pygments_lexer": "ipython3",
   "version": "3.6.9"
  }
 },
 "nbformat": 4,
 "nbformat_minor": 4
}
