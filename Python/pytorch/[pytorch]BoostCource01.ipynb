{
 "cells": [
  {
   "cell_type": "markdown",
   "metadata": {},
   "source": [
    "# Tensor에 대한 기본적인 이해와 연산함수(01_1)\n",
    "\n",
    "---"
   ]
  },
  {
   "cell_type": "code",
   "execution_count": 1,
   "metadata": {},
   "outputs": [],
   "source": [
    "import torch as t"
   ]
  },
  {
   "cell_type": "code",
   "execution_count": 2,
   "metadata": {},
   "outputs": [
    {
     "data": {
      "text/plain": [
       "'1.3.1'"
      ]
     },
     "execution_count": 2,
     "metadata": {},
     "output_type": "execute_result"
    }
   ],
   "source": [
    "t.__version__"
   ]
  },
  {
   "cell_type": "code",
   "execution_count": 10,
   "metadata": {},
   "outputs": [
    {
     "data": {
      "text/plain": [
       "tensor(7.)"
      ]
     },
     "execution_count": 10,
     "metadata": {},
     "output_type": "execute_result"
    }
   ],
   "source": [
    "data =  t.FloatTensor([[1.,2.,3.,4.,5.,],[6.,7.,8.,9.,0.,]])\n",
    "\n",
    "# check size(shape)\n",
    "data.size()\n",
    "    # data.shape\n",
    "    \n",
    "#slicing\n",
    "data[:,1]\n",
    "\n",
    "#indexing\n",
    "data[1,1]"
   ]
  },
  {
   "cell_type": "code",
   "execution_count": 13,
   "metadata": {},
   "outputs": [
    {
     "name": "stdout",
     "output_type": "stream",
     "text": [
      "tensor([[11., 22.],\n",
      "        [33., 44.]])\n",
      "tensor([[ 10.,  40.],\n",
      "        [ 90., 160.]])\n",
      "tensor([[1., 4.],\n",
      "        [3., 8.]])\n"
     ]
    },
    {
     "data": {
      "text/plain": [
       "tensor([ 5., 11.])"
      ]
     },
     "execution_count": 13,
     "metadata": {},
     "output_type": "execute_result"
    }
   ],
   "source": [
    "#broadcasting\n",
    "\n",
    "data1 = t.Tensor([[1,2],[3,4]])\n",
    "data2 = t.Tensor([[10,20],[30,40]])\n",
    "data3 = t.Tensor([1,2])\n",
    "\n",
    "print(data1+data2)\n",
    "#element multipilcation\n",
    "print(data1*data2)\n",
    "\n",
    "#element multipilcation(broadcasting)\n",
    "print(data1*data3)\n",
    "\n",
    "#dot product\n",
    "print(data1.matmul(data3))"
   ]
  },
  {
   "cell_type": "code",
   "execution_count": 31,
   "metadata": {},
   "outputs": [
    {
     "name": "stdout",
     "output_type": "stream",
     "text": [
      "tensor(2.5000)\n",
      "tensor([2., 3.])\n",
      "tensor([1.5000, 3.5000])\n",
      "tensor(4.)\n",
      "tensor([3., 4.])\n",
      "tensor([1, 1])\n"
     ]
    }
   ],
   "source": [
    "#Mean Sum\n",
    "data4 = t.FloatTensor([[1,2],[3,4]]) \n",
    "print(data4.mean())\n",
    "\n",
    "#[1, 2]\n",
    "#[3 ,4] 에 대해서 \n",
    "#dim=0 으로 설정했을 경우 (1,3),(2,4)에 대한 평균을 (열 연산)\n",
    "#dim=1 으로 설정했을 경우 (1,2),(3,4)에 대한 평균을 출력(행 연산)\n",
    "print(data4.mean(dim=0))\n",
    "print(data4.mean(dim=1))\n",
    "#sum은 mean대신 sum\n",
    "\n",
    "#Max & argmax\n",
    "# .max()  = (max,argmax)\n",
    "#argmax = max값의 index 리턴\n",
    "print(data4.max())\n",
    "print(data4.max(dim = 0)[0])\n",
    "print(data4.max(dim = 0)[1])"
   ]
  },
  {
   "cell_type": "markdown",
   "metadata": {},
   "source": [
    "# Tensor에 대한 기본적인 이해와 연산함수(01_2)\n",
    "\n",
    "---"
   ]
  },
  {
   "cell_type": "code",
   "execution_count": 33,
   "metadata": {},
   "outputs": [],
   "source": [
    "#view (reshape)\n",
    "import numpy as np\n",
    "data = np.array([[[0,1,2],[3,4,5]],[[6,7,8],[8,9,0]]])\n",
    "data_tp = t.FloatTensor(data)"
   ]
  },
  {
   "cell_type": "code",
   "execution_count": 34,
   "metadata": {},
   "outputs": [
    {
     "data": {
      "text/plain": [
       "torch.Size([2, 2, 3])"
      ]
     },
     "execution_count": 34,
     "metadata": {},
     "output_type": "execute_result"
    }
   ],
   "source": [
    "data_tp.shape"
   ]
  },
  {
   "cell_type": "code",
   "execution_count": 36,
   "metadata": {},
   "outputs": [
    {
     "name": "stdout",
     "output_type": "stream",
     "text": [
      "tensor([[0., 1., 2.],\n",
      "        [3., 4., 5.],\n",
      "        [6., 7., 8.],\n",
      "        [8., 9., 0.]])\n",
      "torch.Size([4, 3])\n"
     ]
    }
   ],
   "source": [
    "print(data_tp.view(-1,3))\n",
    "print(data_tp.view(-1,3).shape)"
   ]
  },
  {
   "cell_type": "code",
   "execution_count": 37,
   "metadata": {},
   "outputs": [
    {
     "name": "stdout",
     "output_type": "stream",
     "text": [
      "tensor([[[0., 1., 2.]],\n",
      "\n",
      "        [[3., 4., 5.]],\n",
      "\n",
      "        [[6., 7., 8.]],\n",
      "\n",
      "        [[8., 9., 0.]]])\n",
      "torch.Size([4, 1, 3])\n"
     ]
    }
   ],
   "source": [
    "print(data_tp.view(-1,1,3))\n",
    "print(data_tp.view(-1,1,3).shape)"
   ]
  },
  {
   "cell_type": "code",
   "execution_count": 38,
   "metadata": {},
   "outputs": [
    {
     "name": "stdout",
     "output_type": "stream",
     "text": [
      "tensor([[0.],\n",
      "        [1.],\n",
      "        [2.]])\n",
      "torch.Size([3, 1])\n"
     ]
    }
   ],
   "source": [
    "data1 = t.FloatTensor([[0],[1],[2]])\n",
    "print(data1)\n",
    "print(data1.shape)"
   ]
  },
  {
   "cell_type": "code",
   "execution_count": 40,
   "metadata": {},
   "outputs": [
    {
     "name": "stdout",
     "output_type": "stream",
     "text": [
      "tensor([0., 1., 2.])\n",
      "torch.Size([3])\n"
     ]
    }
   ],
   "source": [
    "print(data1.squeeze())\n",
    "print(data1.squeeze().shape)"
   ]
  },
  {
   "cell_type": "code",
   "execution_count": 45,
   "metadata": {},
   "outputs": [
    {
     "data": {
      "text/plain": [
       "tensor([0, 1, 2], dtype=torch.int32)"
      ]
     },
     "execution_count": 45,
     "metadata": {},
     "output_type": "execute_result"
    }
   ],
   "source": [
    "#type casting\n",
    "data2= t.LongTensor([0,1,2])\n",
    "data2.float()\n",
    "data2.int()"
   ]
  },
  {
   "cell_type": "code",
   "execution_count": 47,
   "metadata": {},
   "outputs": [
    {
     "name": "stdout",
     "output_type": "stream",
     "text": [
      "tensor([[1., 2.],\n",
      "        [3., 4.],\n",
      "        [1., 2.],\n",
      "        [3., 4.]])\n",
      "tensor([[1., 2., 1., 2.],\n",
      "        [3., 4., 3., 4.]])\n"
     ]
    }
   ],
   "source": [
    "data3 = t.FloatTensor([[1,2],[3,4]]) \n",
    "data4 = t.FloatTensor([[1,2],[3,4]]) \n",
    "\n",
    "print(t.cat([data3,data4],dim = 0))\n",
    "print(t.cat([data3,data4],dim = 1))"
   ]
  },
  {
   "cell_type": "code",
   "execution_count": 50,
   "metadata": {},
   "outputs": [
    {
     "name": "stdout",
     "output_type": "stream",
     "text": [
      "tensor([[[1., 2.],\n",
      "         [3., 4.]],\n",
      "\n",
      "        [[1., 2.],\n",
      "         [3., 4.]],\n",
      "\n",
      "        [[1., 2.],\n",
      "         [3., 4.]]])\n",
      "torch.Size([3, 2, 2])\n",
      "tensor([[[1., 2.],\n",
      "         [1., 2.],\n",
      "         [1., 2.]],\n",
      "\n",
      "        [[3., 4.],\n",
      "         [3., 4.],\n",
      "         [3., 4.]]])\n",
      "torch.Size([2, 3, 2])\n"
     ]
    }
   ],
   "source": [
    "print(t.stack([data3 ,data4,data3],dim = 0))\n",
    "print(t.stack([data3 ,data4,data3],dim = 0).shape)\n",
    "print(t.stack([data3 ,data4,data3],dim = 1))\n",
    "print(t.stack([data3 ,data4,data3],dim = 1).shape)"
   ]
  },
  {
   "cell_type": "code",
   "execution_count": 55,
   "metadata": {},
   "outputs": [
    {
     "name": "stdout",
     "output_type": "stream",
     "text": [
      "tensor([[1., 1., 1.],\n",
      "        [1., 1., 1.]])\n",
      "tensor([[0., 0., 0.],\n",
      "        [0., 0., 0.]])\n"
     ]
    }
   ],
   "source": [
    "#ones and zeros\n",
    "data5 = t.Tensor([[0,1,2],[1,2,3]])\n",
    "\n",
    "print(t.ones_like(data5))\n",
    "print(t.zeros_like(data5))"
   ]
  },
  {
   "cell_type": "code",
   "execution_count": 56,
   "metadata": {},
   "outputs": [
    {
     "name": "stdout",
     "output_type": "stream",
     "text": [
      "tensor([[1., 2.],\n",
      "        [3., 4.]])\n",
      "tensor([[2., 4.],\n",
      "        [6., 8.]])\n"
     ]
    }
   ],
   "source": [
    "#in_place operation\n",
    "\n",
    "x = t.Tensor([[1,2],[3,4]])\n",
    "\n",
    "x.mul(2)\n",
    "print(x)\n",
    "x.mul_(2)\n",
    "print(x)"
   ]
  },
  {
   "cell_type": "code",
   "execution_count": null,
   "metadata": {},
   "outputs": [],
   "source": []
  }
 ],
 "metadata": {
  "kernelspec": {
   "display_name": "Python 3",
   "language": "python",
   "name": "python3"
  },
  "language_info": {
   "codemirror_mode": {
    "name": "ipython",
    "version": 3
   },
   "file_extension": ".py",
   "mimetype": "text/x-python",
   "name": "python",
   "nbconvert_exporter": "python",
   "pygments_lexer": "ipython3",
   "version": "3.7.3"
  }
 },
 "nbformat": 4,
 "nbformat_minor": 4
}
