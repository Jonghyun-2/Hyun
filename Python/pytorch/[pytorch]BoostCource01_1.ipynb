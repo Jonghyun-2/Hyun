{
 "cells": [
  {
   "cell_type": "markdown",
   "metadata": {},
   "source": [
    "# Tensor에 대한 기본적인 이해와 연산함수\n",
    "\n",
    "---"
   ]
  },
  {
   "cell_type": "code",
   "execution_count": 1,
   "metadata": {},
   "outputs": [],
   "source": [
    "import torch as t"
   ]
  },
  {
   "cell_type": "code",
   "execution_count": 2,
   "metadata": {},
   "outputs": [
    {
     "data": {
      "text/plain": [
       "'1.3.1'"
      ]
     },
     "execution_count": 2,
     "metadata": {},
     "output_type": "execute_result"
    }
   ],
   "source": [
    "t.__version__"
   ]
  },
  {
   "cell_type": "code",
   "execution_count": 10,
   "metadata": {},
   "outputs": [
    {
     "data": {
      "text/plain": [
       "tensor(7.)"
      ]
     },
     "execution_count": 10,
     "metadata": {},
     "output_type": "execute_result"
    }
   ],
   "source": [
    "data =  t.FloatTensor([[1.,2.,3.,4.,5.,],[6.,7.,8.,9.,0.,]])\n",
    "\n",
    "# check size(shape)\n",
    "data.size()\n",
    "    # data.shape\n",
    "    \n",
    "#slicing\n",
    "data[:,1]\n",
    "\n",
    "#indexing\n",
    "data[1,1]"
   ]
  },
  {
   "cell_type": "code",
   "execution_count": 13,
   "metadata": {},
   "outputs": [
    {
     "name": "stdout",
     "output_type": "stream",
     "text": [
      "tensor([[11., 22.],\n",
      "        [33., 44.]])\n",
      "tensor([[ 10.,  40.],\n",
      "        [ 90., 160.]])\n",
      "tensor([[1., 4.],\n",
      "        [3., 8.]])\n"
     ]
    },
    {
     "data": {
      "text/plain": [
       "tensor([ 5., 11.])"
      ]
     },
     "execution_count": 13,
     "metadata": {},
     "output_type": "execute_result"
    }
   ],
   "source": [
    "#broadcasting\n",
    "\n",
    "data1 = t.Tensor([[1,2],[3,4]])\n",
    "data2 = t.Tensor([[10,20],[30,40]])\n",
    "data3 = t.Tensor([1,2])\n",
    "\n",
    "print(data1+data2)\n",
    "#element multipilcation\n",
    "print(data1*data2)\n",
    "\n",
    "#element multipilcation(broadcasting)\n",
    "print(data1*data3)\n",
    "\n",
    "#dot product\n",
    "print(data1.matmul(data3))"
   ]
  },
  {
   "cell_type": "code",
   "execution_count": 31,
   "metadata": {},
   "outputs": [
    {
     "name": "stdout",
     "output_type": "stream",
     "text": [
      "tensor(2.5000)\n",
      "tensor([2., 3.])\n",
      "tensor([1.5000, 3.5000])\n",
      "tensor(4.)\n",
      "tensor([3., 4.])\n",
      "tensor([1, 1])\n"
     ]
    }
   ],
   "source": [
    "#Mean Sum\n",
    "data4 = t.FloatTensor([[1,2],[3,4]]) \n",
    "print(data4.mean())\n",
    "\n",
    "#[1, 2]\n",
    "#[3 ,4] 에 대해서 \n",
    "#dim=0 으로 설정했을 경우 (1,3),(2,4)에 대한 평균을 (열 연산)\n",
    "#dim=1 으로 설정했을 경우 (1,2),(3,4)에 대한 평균을 출력(행 연산)\n",
    "print(data4.mean(dim=0))\n",
    "print(data4.mean(dim=1))\n",
    "#sum은 mean대신 sum\n",
    "\n",
    "#Max & argmax\n",
    "# .max()  = (max,argmax)\n",
    "#argmax = max값의 index 리턴\n",
    "print(data4.max())\n",
    "print(data4.max(dim = 0)[0])\n",
    "print(data4.max(dim = 0)[1])"
   ]
  }
 ],
 "metadata": {
  "kernelspec": {
   "display_name": "Python 3",
   "language": "python",
   "name": "python3"
  },
  "language_info": {
   "codemirror_mode": {
    "name": "ipython",
    "version": 3
   },
   "file_extension": ".py",
   "mimetype": "text/x-python",
   "name": "python",
   "nbconvert_exporter": "python",
   "pygments_lexer": "ipython3",
   "version": "3.7.3"
  }
 },
 "nbformat": 4,
 "nbformat_minor": 4
}
