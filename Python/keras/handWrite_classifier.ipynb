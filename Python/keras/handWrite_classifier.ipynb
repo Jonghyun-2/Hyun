{
 "cells": [
  {
   "cell_type": "code",
   "execution_count": 1,
   "metadata": {
    "colab": {
     "base_uri": "https://localhost:8080/",
     "height": 71
    },
    "colab_type": "code",
    "executionInfo": {
     "elapsed": 3955,
     "status": "ok",
     "timestamp": 1571981008692,
     "user": {
      "displayName": "이종현",
      "photoUrl": "",
      "userId": "13170448902282857811"
     },
     "user_tz": -540
    },
    "id": "LIGI_bRDHpny",
    "outputId": "d9138360-1c08-4f17-e58d-f54bf204faf1"
   },
   "outputs": [
    {
     "name": "stderr",
     "output_type": "stream",
     "text": [
      "Using TensorFlow backend.\n"
     ]
    },
    {
     "name": "stdout",
     "output_type": "stream",
     "text": [
      "Downloading data from https://s3.amazonaws.com/img-datasets/mnist.npz\n",
      "11493376/11490434 [==============================] - 1s 0us/step\n"
     ]
    }
   ],
   "source": [
    "from keras.datasets import mnist\n",
    "(train_images, train_labels), (test_images, test_labels) = mnist.load_data()\n",
    "\n",
    "train_images = train_images.reshape(60000,28,28,1)\n",
    "test_images = test_images.reshape(10000,28,28,1)"
   ]
  },
  {
   "cell_type": "code",
   "execution_count": null,
   "metadata": {
    "colab": {},
    "colab_type": "code",
    "id": "ZzZQQ9-mIjzt"
   },
   "outputs": [],
   "source": [
    "from keras.utils import to_categorical\n",
    "\n",
    "train_labels = to_categorical(train_labels)\n",
    "test_labels = to_categorical(test_labels)"
   ]
  },
  {
   "cell_type": "code",
   "execution_count": null,
   "metadata": {
    "colab": {},
    "colab_type": "code",
    "id": "FeKBlH02Axt-"
   },
   "outputs": [],
   "source": [
    "from keras.preprocessing.image import ImageDataGenerator\n",
    "\n",
    "train_datagen = ImageDataGenerator(rescale = 1./255,\n",
    "                                  shear_range = 0.2,\n",
    "                                   zoom_range = 0.3,)\n",
    "\n",
    "test_datagen = ImageDataGenerator(rescale = 1./255)\n",
    "training_set = train_datagen.flow(train_images, train_labels, batch_size=60)\n",
    "test_set= test_datagen.flow(test_images, test_labels, batch_size=10)"
   ]
  },
  {
   "cell_type": "code",
   "execution_count": null,
   "metadata": {
    "colab": {},
    "colab_type": "code",
    "id": "PJpbXsK_mSlj"
   },
   "outputs": [],
   "source": [
    "from keras import layers\n",
    "from keras import models"
   ]
  },
  {
   "cell_type": "code",
   "execution_count": null,
   "metadata": {
    "colab": {},
    "colab_type": "code",
    "id": "wWO2aWr5TGaW"
   },
   "outputs": [],
   "source": [
    "#must have 3 channel\n",
    "\n",
    "# from keras.applications import VGG16\n",
    "# conv_base = VGG16(weights = \"imagenet\",\n",
    "#                   include_top = False,\n",
    "#                   input_shape = (28,28,1))\n",
    "\n",
    "# first_model.add(conv_base)"
   ]
  },
  {
   "cell_type": "code",
   "execution_count": null,
   "metadata": {
    "colab": {
     "base_uri": "https://localhost:8080/",
     "height": 449
    },
    "colab_type": "code",
    "id": "ZV-Ie4rwNBHP",
    "outputId": "5ad7ac95-e7e0-4acd-b0b8-2ee696ebf393"
   },
   "outputs": [
    {
     "name": "stdout",
     "output_type": "stream",
     "text": [
      "Model: \"sequential_2\"\n",
      "_________________________________________________________________\n",
      "Layer (type)                 Output Shape              Param #   \n",
      "=================================================================\n",
      "conv2d_3 (Conv2D)            (None, 26, 26, 32)        320       \n",
      "_________________________________________________________________\n",
      "max_pooling2d_3 (MaxPooling2 (None, 13, 13, 32)        0         \n",
      "_________________________________________________________________\n",
      "dropout_2 (Dropout)          (None, 13, 13, 32)        0         \n",
      "_________________________________________________________________\n",
      "conv2d_4 (Conv2D)            (None, 11, 11, 64)        18496     \n",
      "_________________________________________________________________\n",
      "max_pooling2d_4 (MaxPooling2 (None, 5, 5, 64)          0         \n",
      "_________________________________________________________________\n",
      "flatten_2 (Flatten)          (None, 1600)              0         \n",
      "_________________________________________________________________\n",
      "dense_3 (Dense)              (None, 64)                102464    \n",
      "_________________________________________________________________\n",
      "dense_4 (Dense)              (None, 10)                650       \n",
      "=================================================================\n",
      "Total params: 121,930\n",
      "Trainable params: 121,930\n",
      "Non-trainable params: 0\n",
      "_________________________________________________________________\n"
     ]
    }
   ],
   "source": [
    "# from keras import layers\n",
    "# from keras import models\n",
    "\n",
    "# first_model = models.Sequential()\n",
    "# first_model.add(layers.Conv2D(32,(3,3),activation=\"relu\",input_shape=(28,28,1)))\n",
    "# first_model.add(layers.MaxPool2D(2,2))\n",
    "# first_model.add(layers.Dropout(0.4))\n",
    "# first_model.add(layers.Conv2D(64,(3,3),activation=\"relu\"))\n",
    "# first_model.add(layers.MaxPool2D(2,2))\n",
    "# first_model.add(layers.Flatten())\n",
    "# first_model.add(layers.Dense(64,activation=\"relu\"))\n",
    "# first_model.add(layers.Dense(10,activation=\"softmax\"))\n",
    "\n",
    "# first_model.compile(optimizer=\"rmsprop\",\n",
    "#                     loss = \"categorical_crossentropy\",\n",
    "#                     metrics=['acc'])\n",
    "\n",
    "# #first_model.summary()\n",
    "\n",
    "# first_model.fit_generator(training_set,validation_data=test_set,\n",
    "#                     steps_per_epoch=1000 , epochs=32)"
   ]
  },
  {
   "cell_type": "code",
   "execution_count": null,
   "metadata": {
    "colab": {
     "base_uri": "https://localhost:8080/",
     "height": 737
    },
    "colab_type": "code",
    "id": "7e3EfQjz2PCc",
    "outputId": "3f63217d-f785-4f94-8402-bf44e59f95c1"
   },
   "outputs": [
    {
     "name": "stdout",
     "output_type": "stream",
     "text": [
      "Epoch 1/20\n",
      "200/200 [==============================] - 7s 36ms/step - loss: 0.8977 - acc: 0.7064 - val_loss: 0.3501 - val_acc: 0.8878\n",
      "Epoch 2/20\n",
      "200/200 [==============================] - 7s 34ms/step - loss: 0.3349 - acc: 0.8965 - val_loss: 0.3451 - val_acc: 0.8895\n",
      "Epoch 3/20\n",
      "200/200 [==============================] - 7s 34ms/step - loss: 0.2305 - acc: 0.9291 - val_loss: 0.1460 - val_acc: 0.9514\n",
      "Epoch 4/20\n",
      "200/200 [==============================] - 7s 34ms/step - loss: 0.1815 - acc: 0.9433 - val_loss: 0.1299 - val_acc: 0.9618\n",
      "Epoch 5/20\n",
      "200/200 [==============================] - 7s 34ms/step - loss: 0.1676 - acc: 0.9484 - val_loss: 0.0881 - val_acc: 0.9720\n",
      "Epoch 6/20\n",
      "200/200 [==============================] - 7s 34ms/step - loss: 0.1390 - acc: 0.9577 - val_loss: 0.0965 - val_acc: 0.9675\n",
      "Epoch 7/20\n",
      "200/200 [==============================] - 7s 34ms/step - loss: 0.1240 - acc: 0.9608 - val_loss: 0.0732 - val_acc: 0.9769\n",
      "Epoch 8/20\n",
      "200/200 [==============================] - 7s 34ms/step - loss: 0.1227 - acc: 0.9631 - val_loss: 0.0784 - val_acc: 0.9745\n",
      "Epoch 9/20\n",
      "200/200 [==============================] - 7s 34ms/step - loss: 0.1057 - acc: 0.9670 - val_loss: 0.0650 - val_acc: 0.9805\n",
      "Epoch 10/20\n",
      "200/200 [==============================] - 7s 34ms/step - loss: 0.0987 - acc: 0.9697 - val_loss: 0.0654 - val_acc: 0.9805\n",
      "Epoch 11/20\n",
      "200/200 [==============================] - 7s 35ms/step - loss: 0.0851 - acc: 0.9723 - val_loss: 0.0664 - val_acc: 0.9805\n",
      "Epoch 12/20\n",
      "200/200 [==============================] - 7s 35ms/step - loss: 0.0907 - acc: 0.9707 - val_loss: 0.0625 - val_acc: 0.9809\n",
      "Epoch 13/20\n",
      "200/200 [==============================] - 7s 34ms/step - loss: 0.0910 - acc: 0.9726 - val_loss: 0.0759 - val_acc: 0.9754\n",
      "Epoch 14/20\n",
      "200/200 [==============================] - 7s 34ms/step - loss: 0.0865 - acc: 0.9742 - val_loss: 0.0574 - val_acc: 0.9821\n",
      "Epoch 15/20\n",
      "200/200 [==============================] - 7s 34ms/step - loss: 0.0837 - acc: 0.9729 - val_loss: 0.0584 - val_acc: 0.9818\n",
      "Epoch 16/20\n",
      "200/200 [==============================] - 7s 34ms/step - loss: 0.0726 - acc: 0.9768 - val_loss: 0.0552 - val_acc: 0.9840\n",
      "Epoch 17/20\n",
      "200/200 [==============================] - 7s 34ms/step - loss: 0.0704 - acc: 0.9774 - val_loss: 0.0552 - val_acc: 0.9838\n",
      "Epoch 18/20\n",
      "200/200 [==============================] - 7s 34ms/step - loss: 0.0762 - acc: 0.9774 - val_loss: 0.0528 - val_acc: 0.9842\n",
      "Epoch 19/20\n",
      "200/200 [==============================] - 7s 34ms/step - loss: 0.0631 - acc: 0.9787 - val_loss: 0.0521 - val_acc: 0.9834\n",
      "Epoch 20/20\n",
      "200/200 [==============================] - 7s 33ms/step - loss: 0.0701 - acc: 0.9781 - val_loss: 0.0588 - val_acc: 0.9832\n"
     ]
    }
   ],
   "source": [
    "# second_model = models.Sequential()                                              # val_acc 98%\n",
    "# second_model.add(layers.Conv2D(32,(3,3),activation=\"relu\",input_shape=(28,28,1)))\n",
    "# second_model.add(layers.MaxPool2D(2,2))\n",
    "# second_model.add(layers.Conv2D(64,(3,3),activation=\"relu\"))\n",
    "# second_model.add(layers.MaxPool2D(2,2))\n",
    "# second_model.add(layers.Conv2D(64,(3,3),activation=\"relu\"))                     # add conv layer\n",
    "# second_model.add(layers.MaxPool2D(2,2))\n",
    "# second_model.add(layers.Flatten())\n",
    "# second_model.add(layers.Dense(32,activation=\"relu\"))\n",
    "# second_model.add(layers.Dense(10,activation=\"softmax\"))\n",
    "\n",
    "# second_model.compile(optimizer=\"rmsprop\",\n",
    "#                     loss = \"categorical_crossentropy\",\n",
    "#                     metrics=['acc'])\n",
    "\n",
    "# second_history = second_model.fit_generator(training_set,validation_data=test_set,\n",
    "#                     steps_per_epoch=200 , epochs=20)"
   ]
  },
  {
   "cell_type": "code",
   "execution_count": 5,
   "metadata": {
    "colab": {
     "base_uri": "https://localhost:8080/",
     "height": 1000
    },
    "colab_type": "code",
    "executionInfo": {
     "elapsed": 556176,
     "status": "ok",
     "timestamp": 1571981583222,
     "user": {
      "displayName": "이종현",
      "photoUrl": "",
      "userId": "13170448902282857811"
     },
     "user_tz": -540
    },
    "id": "QOY30CLG2nwx",
    "outputId": "5dba4930-533d-4f63-c6ad-7ec4b4fb34ca"
   },
   "outputs": [
    {
     "name": "stdout",
     "output_type": "stream",
     "text": [
      "WARNING:tensorflow:From /usr/local/lib/python3.6/dist-packages/keras/backend/tensorflow_backend.py:66: The name tf.get_default_graph is deprecated. Please use tf.compat.v1.get_default_graph instead.\n",
      "\n",
      "WARNING:tensorflow:From /usr/local/lib/python3.6/dist-packages/keras/backend/tensorflow_backend.py:541: The name tf.placeholder is deprecated. Please use tf.compat.v1.placeholder instead.\n",
      "\n",
      "WARNING:tensorflow:From /usr/local/lib/python3.6/dist-packages/keras/backend/tensorflow_backend.py:4432: The name tf.random_uniform is deprecated. Please use tf.random.uniform instead.\n",
      "\n",
      "WARNING:tensorflow:From /usr/local/lib/python3.6/dist-packages/keras/backend/tensorflow_backend.py:4267: The name tf.nn.max_pool is deprecated. Please use tf.nn.max_pool2d instead.\n",
      "\n",
      "WARNING:tensorflow:From /usr/local/lib/python3.6/dist-packages/keras/optimizers.py:793: The name tf.train.Optimizer is deprecated. Please use tf.compat.v1.train.Optimizer instead.\n",
      "\n",
      "WARNING:tensorflow:From /usr/local/lib/python3.6/dist-packages/keras/backend/tensorflow_backend.py:3576: The name tf.log is deprecated. Please use tf.math.log instead.\n",
      "\n",
      "WARNING:tensorflow:From /usr/local/lib/python3.6/dist-packages/tensorflow_core/python/ops/math_grad.py:1424: where (from tensorflow.python.ops.array_ops) is deprecated and will be removed in a future version.\n",
      "Instructions for updating:\n",
      "Use tf.where in 2.0, which has the same broadcast rule as np.where\n",
      "WARNING:tensorflow:From /usr/local/lib/python3.6/dist-packages/keras/backend/tensorflow_backend.py:1033: The name tf.assign_add is deprecated. Please use tf.compat.v1.assign_add instead.\n",
      "\n",
      "WARNING:tensorflow:From /usr/local/lib/python3.6/dist-packages/keras/backend/tensorflow_backend.py:1020: The name tf.assign is deprecated. Please use tf.compat.v1.assign instead.\n",
      "\n",
      "WARNING:tensorflow:From /usr/local/lib/python3.6/dist-packages/keras/backend/tensorflow_backend.py:3005: The name tf.Session is deprecated. Please use tf.compat.v1.Session instead.\n",
      "\n",
      "Epoch 1/40\n",
      "WARNING:tensorflow:From /usr/local/lib/python3.6/dist-packages/keras/backend/tensorflow_backend.py:190: The name tf.get_default_session is deprecated. Please use tf.compat.v1.get_default_session instead.\n",
      "\n",
      "WARNING:tensorflow:From /usr/local/lib/python3.6/dist-packages/keras/backend/tensorflow_backend.py:197: The name tf.ConfigProto is deprecated. Please use tf.compat.v1.ConfigProto instead.\n",
      "\n",
      "WARNING:tensorflow:From /usr/local/lib/python3.6/dist-packages/keras/backend/tensorflow_backend.py:207: The name tf.global_variables is deprecated. Please use tf.compat.v1.global_variables instead.\n",
      "\n",
      "WARNING:tensorflow:From /usr/local/lib/python3.6/dist-packages/keras/backend/tensorflow_backend.py:216: The name tf.is_variable_initialized is deprecated. Please use tf.compat.v1.is_variable_initialized instead.\n",
      "\n",
      "WARNING:tensorflow:From /usr/local/lib/python3.6/dist-packages/keras/backend/tensorflow_backend.py:223: The name tf.variables_initializer is deprecated. Please use tf.compat.v1.variables_initializer instead.\n",
      "\n",
      "500/500 [==============================] - 21s 41ms/step - loss: 0.5236 - acc: 0.8356 - val_loss: 0.1538 - val_acc: 0.9530\n",
      "Epoch 2/40\n",
      "500/500 [==============================] - 14s 27ms/step - loss: 0.1890 - acc: 0.9422 - val_loss: 0.1011 - val_acc: 0.9676\n",
      "Epoch 3/40\n",
      "500/500 [==============================] - 13s 27ms/step - loss: 0.1339 - acc: 0.9585 - val_loss: 0.0949 - val_acc: 0.9705\n",
      "Epoch 4/40\n",
      "500/500 [==============================] - 14s 28ms/step - loss: 0.1105 - acc: 0.9651 - val_loss: 0.0661 - val_acc: 0.9793\n",
      "Epoch 5/40\n",
      "500/500 [==============================] - 14s 27ms/step - loss: 0.0939 - acc: 0.9709 - val_loss: 0.0585 - val_acc: 0.9825\n",
      "Epoch 6/40\n",
      "500/500 [==============================] - 14s 27ms/step - loss: 0.0802 - acc: 0.9753 - val_loss: 0.0657 - val_acc: 0.9802\n",
      "Epoch 7/40\n",
      "500/500 [==============================] - 14s 28ms/step - loss: 0.0731 - acc: 0.9783 - val_loss: 0.0546 - val_acc: 0.9839\n",
      "Epoch 8/40\n",
      "500/500 [==============================] - 14s 27ms/step - loss: 0.0722 - acc: 0.9775 - val_loss: 0.0663 - val_acc: 0.9789\n",
      "Epoch 9/40\n",
      "500/500 [==============================] - 14s 27ms/step - loss: 0.0619 - acc: 0.9800 - val_loss: 0.0986 - val_acc: 0.9710\n",
      "Epoch 10/40\n",
      "500/500 [==============================] - 13s 27ms/step - loss: 0.0613 - acc: 0.9806 - val_loss: 0.0448 - val_acc: 0.9876\n",
      "Epoch 11/40\n",
      "500/500 [==============================] - 14s 27ms/step - loss: 0.0560 - acc: 0.9828 - val_loss: 0.0501 - val_acc: 0.9846\n",
      "Epoch 12/40\n",
      "500/500 [==============================] - 14s 27ms/step - loss: 0.0586 - acc: 0.9818 - val_loss: 0.0431 - val_acc: 0.9875\n",
      "Epoch 13/40\n",
      "500/500 [==============================] - 14s 27ms/step - loss: 0.0491 - acc: 0.9843 - val_loss: 0.0447 - val_acc: 0.9875\n",
      "Epoch 14/40\n",
      "500/500 [==============================] - 14s 28ms/step - loss: 0.0519 - acc: 0.9841 - val_loss: 0.0413 - val_acc: 0.9878\n",
      "Epoch 15/40\n",
      "500/500 [==============================] - 14s 27ms/step - loss: 0.0477 - acc: 0.9854 - val_loss: 0.0521 - val_acc: 0.9861\n",
      "Epoch 16/40\n",
      "500/500 [==============================] - 14s 28ms/step - loss: 0.0439 - acc: 0.9862 - val_loss: 0.0620 - val_acc: 0.9819\n",
      "Epoch 17/40\n",
      "500/500 [==============================] - 14s 28ms/step - loss: 0.0447 - acc: 0.9857 - val_loss: 0.0419 - val_acc: 0.9890\n",
      "Epoch 18/40\n",
      "500/500 [==============================] - 14s 27ms/step - loss: 0.0441 - acc: 0.9870 - val_loss: 0.0415 - val_acc: 0.9878\n",
      "Epoch 19/40\n",
      "500/500 [==============================] - 14s 27ms/step - loss: 0.0427 - acc: 0.9874 - val_loss: 0.0474 - val_acc: 0.9864\n",
      "Epoch 20/40\n",
      "500/500 [==============================] - 14s 27ms/step - loss: 0.0426 - acc: 0.9872 - val_loss: 0.0398 - val_acc: 0.9902\n",
      "Epoch 21/40\n",
      "500/500 [==============================] - 14s 27ms/step - loss: 0.0390 - acc: 0.9883 - val_loss: 0.0444 - val_acc: 0.9894\n",
      "Epoch 22/40\n",
      "500/500 [==============================] - 14s 28ms/step - loss: 0.0421 - acc: 0.9874 - val_loss: 0.0455 - val_acc: 0.9879\n",
      "Epoch 23/40\n",
      "500/500 [==============================] - 14s 27ms/step - loss: 0.0394 - acc: 0.9883 - val_loss: 0.0593 - val_acc: 0.9850\n",
      "Epoch 24/40\n",
      "500/500 [==============================] - 14s 28ms/step - loss: 0.0397 - acc: 0.9882 - val_loss: 0.0467 - val_acc: 0.9880\n",
      "Epoch 25/40\n",
      "500/500 [==============================] - 14s 28ms/step - loss: 0.0364 - acc: 0.9885 - val_loss: 0.0439 - val_acc: 0.9876\n",
      "Epoch 26/40\n",
      "500/500 [==============================] - 14s 28ms/step - loss: 0.0409 - acc: 0.9876 - val_loss: 0.0481 - val_acc: 0.9884\n",
      "Epoch 27/40\n",
      "500/500 [==============================] - 14s 28ms/step - loss: 0.0366 - acc: 0.9886 - val_loss: 0.0450 - val_acc: 0.9879\n",
      "Epoch 28/40\n",
      "500/500 [==============================] - 14s 28ms/step - loss: 0.0361 - acc: 0.9890 - val_loss: 0.0428 - val_acc: 0.9889\n",
      "Epoch 29/40\n",
      "500/500 [==============================] - 14s 28ms/step - loss: 0.0363 - acc: 0.9890 - val_loss: 0.0475 - val_acc: 0.9878\n",
      "Epoch 30/40\n",
      "500/500 [==============================] - 14s 27ms/step - loss: 0.0352 - acc: 0.9895 - val_loss: 0.0438 - val_acc: 0.9896\n",
      "Epoch 31/40\n",
      "500/500 [==============================] - 14s 28ms/step - loss: 0.0324 - acc: 0.9898 - val_loss: 0.0512 - val_acc: 0.9879\n",
      "Epoch 32/40\n",
      "500/500 [==============================] - 14s 27ms/step - loss: 0.0381 - acc: 0.9887 - val_loss: 0.0558 - val_acc: 0.9857\n",
      "Epoch 33/40\n",
      "500/500 [==============================] - 14s 28ms/step - loss: 0.0355 - acc: 0.9893 - val_loss: 0.0450 - val_acc: 0.9884\n",
      "Epoch 34/40\n",
      "500/500 [==============================] - 14s 27ms/step - loss: 0.0338 - acc: 0.9894 - val_loss: 0.0424 - val_acc: 0.9889\n",
      "Epoch 35/40\n",
      "500/500 [==============================] - 14s 27ms/step - loss: 0.0331 - acc: 0.9910 - val_loss: 0.0479 - val_acc: 0.9886\n",
      "Epoch 36/40\n",
      "500/500 [==============================] - 14s 27ms/step - loss: 0.0317 - acc: 0.9903 - val_loss: 0.0534 - val_acc: 0.9891\n",
      "Epoch 37/40\n",
      "500/500 [==============================] - 14s 27ms/step - loss: 0.0309 - acc: 0.9902 - val_loss: 0.0508 - val_acc: 0.9896\n",
      "Epoch 38/40\n",
      "500/500 [==============================] - 14s 28ms/step - loss: 0.0342 - acc: 0.9896 - val_loss: 0.0487 - val_acc: 0.9888\n",
      "Epoch 39/40\n",
      "500/500 [==============================] - 14s 27ms/step - loss: 0.0350 - acc: 0.9896 - val_loss: 0.0680 - val_acc: 0.9809\n",
      "Epoch 40/40\n",
      "500/500 [==============================] - 14s 27ms/step - loss: 0.0352 - acc: 0.9897 - val_loss: 0.0529 - val_acc: 0.9876\n"
     ]
    }
   ],
   "source": [
    "model_Dense64 = models.Sequential()                                             # 98 ~ 99% \n",
    "model_Dense64.add(layers.Conv2D(32,(3,3),activation=\"relu\",input_shape=(28,28,1)))\n",
    "model_Dense64.add(layers.MaxPool2D(2,2))\n",
    "model_Dense64.add(layers.Conv2D(64,(3,3),activation=\"relu\"))\n",
    "model_Dense64.add(layers.MaxPool2D(2,2))\n",
    "model_Dense64.add(layers.Conv2D(64,(3,3),activation=\"relu\"))\n",
    "model_Dense64.add(layers.MaxPool2D(2,2))\n",
    "model_Dense64.add(layers.Flatten())\n",
    "model_Dense64.add(layers.Dense(64,activation=\"relu\"))                           #Dense 32 -> 64\n",
    "model_Dense64.add(layers.Dense(10,activation=\"softmax\"))\n",
    "\n",
    "model_Dense64.compile(optimizer=\"rmsprop\",\n",
    "                    loss = \"categorical_crossentropy\",\n",
    "                    metrics=['acc'])\n",
    "\n",
    "history_Dense64 = model_Dense64.fit_generator(training_set,validation_data=test_set,\n",
    "                    steps_per_epoch=500 , epochs=40)                            #epochs 20 -> 40, steps_per_epoch 200 -> 500"
   ]
  },
  {
   "cell_type": "code",
   "execution_count": 6,
   "metadata": {
    "colab": {
     "base_uri": "https://localhost:8080/",
     "height": 545
    },
    "colab_type": "code",
    "executionInfo": {
     "elapsed": 1339,
     "status": "ok",
     "timestamp": 1571981584575,
     "user": {
      "displayName": "이종현",
      "photoUrl": "",
      "userId": "13170448902282857811"
     },
     "user_tz": -540
    },
    "id": "vtWswIukCdTk",
    "outputId": "acbb64dd-21c9-46fc-e31f-1738f355c909"
   },
   "outputs": [
    {
     "data": {
      "image/png": "[encoded data removed]",
      "text/plain": [
       "<Figure size 432x288 with 1 Axes>"
      ]
     },
     "metadata": {
      "tags": []
     },
     "output_type": "display_data"
    },
    {
     "data": {
      "image/png": "[encoded data removed]",
      "text/plain": [
       "<Figure size 432x288 with 1 Axes>"
      ]
     },
     "metadata": {
      "tags": []
     },
     "output_type": "display_data"
    }
   ],
   "source": [
    "import matplotlib.pyplot as plt\n",
    "history_dict = history_Dense64.history\n",
    "acc = history_dict[\"acc\"]\n",
    "val_acc = history_dict[\"val_acc\"]\n",
    "loss = history_dict[\"loss\"]\n",
    "val_loss = history_dict[\"val_loss\"]\n",
    "\n",
    "plt.title(\"Acc\")\n",
    "plt.plot(val_acc,'bo',label = \"val_acc\")\n",
    "plt.plot(acc,'b',label = \"acc\")\n",
    "plt.legend()\n",
    "plt.show()\n",
    "\n",
    "plt.title(\"Loss\")\n",
    "plt.plot(val_loss,'ro',label = \"val_loss\")\n",
    "plt.plot(loss,'r',label = \"loss\")\n",
    "plt.legend()\n",
    "plt.show()"
   ]
  },
  {
   "cell_type": "code",
   "execution_count": null,
   "metadata": {
    "colab": {},
    "colab_type": "code",
    "id": "GxuKr9fVIvDO"
   },
   "outputs": [],
   "source": [
    "model_Dense64.save(\"Jonghyun_handWriter.h5\")"
   ]
  },
  {
   "cell_type": "markdown",
   "metadata": {
    "colab_type": "text",
    "id": "IuNKdc_gXZ4S"
   },
   "source": [
    "# Model evaluate"
   ]
  },
  {
   "cell_type": "code",
   "execution_count": null,
   "metadata": {
    "colab": {},
    "colab_type": "code",
    "id": "4Yyqw8ZjIvA5"
   },
   "outputs": [],
   "source": [
    "import glob\n",
    "import cv2\n",
    "import numpy as np\n",
    "import PIL"
   ]
  },
  {
   "cell_type": "code",
   "execution_count": null,
   "metadata": {
    "colab": {
     "base_uri": "https://localhost:8080/",
     "height": 35
    },
    "colab_type": "code",
    "id": "8FVIjyWkFCpz",
    "outputId": "9600a5c9-8eb2-4a1d-c96f-e3c47e5e68f1"
   },
   "outputs": [
    {
     "name": "stdout",
     "output_type": "stream",
     "text": [
      "Mounted at /content/drive\n"
     ]
    }
   ],
   "source": [
    "from google.colab import drive\n",
    "drive.mount('/content/drive')"
   ]
  },
  {
   "cell_type": "code",
   "execution_count": null,
   "metadata": {
    "colab": {},
    "colab_type": "code",
    "id": "LcNTuivRSKQv"
   },
   "outputs": [],
   "source": [
    "#하나씩 판단 함수\n",
    "def load_preprocessing(img_path):\n",
    "  img,img_rev,img_rev_gray = [],[],[]\n",
    "  img = cv2.imread(img_path)\n",
    "  img_rev = cv2.bitwise_not(img)\n",
    "  img_rev_gray = cv2.cvtColor(img_rev,cv2.COLOR_RGB2GRAY)\n",
    "  img_rev_gray = img_rev_gray.reshape(-1,28,28,1)\n",
    "  img_rev_gray  = img_rev_gray.astype(\"float32\")/255\n",
    "  return img_rev_gray"
   ]
  },
  {
   "cell_type": "code",
   "execution_count": null,
   "metadata": {
    "colab": {
     "base_uri": "https://localhost:8080/",
     "height": 89
    },
    "colab_type": "code",
    "id": "6B6uQ0XYO4MZ",
    "outputId": "aebeb08e-682f-4e10-c066-85144c7ade1b"
   },
   "outputs": [
    {
     "name": "stdout",
     "output_type": "stream",
     "text": [
      "input path : /content/drive/My Drive/2019_2/Deep_learning/handWrite/3.png\n",
      "[[1.7987758e-27 1.1521921e-15 2.8531161e-16 1.0000000e+00 3.5070072e-18\n",
      "  9.3338760e-11 2.4337295e-27 8.2707279e-11 7.4121339e-19 5.6236835e-13]]\n"
     ]
    },
    {
     "data": {
      "text/plain": [
       "array([3])"
      ]
     },
     "execution_count": 127,
     "metadata": {
      "tags": []
     },
     "output_type": "execute_result"
    }
   ],
   "source": [
    "#하나하나 판단시\n",
    "path = input(\"input path : \")\n",
    "src = load_preprocessing(path)\n",
    "print(model_Dense64.predict(src))\n",
    "model_Dense64.predict_classes(src)\n",
    "# np.argmax(model_Dense64.predict(src))"
   ]
  },
  {
   "cell_type": "code",
   "execution_count": null,
   "metadata": {
    "colab": {},
    "colab_type": "code",
    "id": "ePeCdUJjIu8H"
   },
   "outputs": [],
   "source": [
    "#일괄 작업 함수\n",
    "def all_pre_process(handWrite_path):\n",
    "  handWrite_list,img,img_rev,img_rev_gray,handWrite_list = [],[],[],[],[]\n",
    "  handWrite_list = np.array(handWrite_list) \n",
    "  for i in range(len(handWrite_path)):\n",
    "    if i == 0 :\n",
    "      img = cv2.imread(handWrite_path[i])\n",
    "      img_rev = cv2.bitwise_not(img)\n",
    "      img_rev_gray = cv2.cvtColor(img_rev,cv2.COLOR_RGB2GRAY)\n",
    "      img_rev_gray =  img_rev_gray.reshape(1,28,28,1)\n",
    "      img_rev_gray = img_rev_gray.astype(\"float32\")/255\n",
    "      handWrite_list = img_rev_gray\n",
    "    else:\n",
    "      img = cv2.imread(handWrite_path[i])\n",
    "      img_rev = cv2.bitwise_not(img)\n",
    "      img_rev_gray = cv2.cvtColor(img_rev,cv2.COLOR_RGB2GRAY)\n",
    "      img_rev_gray = img_rev_gray.reshape(1,28,28,1)\n",
    "      img_rev_gray = img_rev_gray.astype(\"float32\")/255\n",
    "      handWrite_list = np.append(handWrite_list,img_rev_gray,axis=0)\n",
    "  return handWrite_list\n"
   ]
  },
  {
   "cell_type": "code",
   "execution_count": null,
   "metadata": {
    "colab": {
     "base_uri": "https://localhost:8080/",
     "height": 377
    },
    "colab_type": "code",
    "id": "4TQOq1BxS1CL",
    "outputId": "c548503e-ac21-4bda-f033-a86640109036"
   },
   "outputs": [
    {
     "name": "stdout",
     "output_type": "stream",
     "text": [
      "input path : /content/drive/My Drive/2019_2/Deep_learning/handWrite\n",
      "/content/drive/My Drive/2019_2/Deep_learning/handWrite/6.png\n",
      "/content/drive/My Drive/2019_2/Deep_learning/handWrite/5.png\n",
      "/content/drive/My Drive/2019_2/Deep_learning/handWrite/4.png\n",
      "/content/drive/My Drive/2019_2/Deep_learning/handWrite/7.png\n",
      "/content/drive/My Drive/2019_2/Deep_learning/handWrite/8.png\n",
      "/content/drive/My Drive/2019_2/Deep_learning/handWrite/3.png\n",
      "[[1.1444135e-07 9.2253710e-10 2.1386998e-04 7.4583820e-12 8.8698602e-05\n",
      "  2.9553693e-09 9.9969542e-01 7.3297054e-13 1.9400529e-06 1.0580465e-10]\n",
      " [5.6953414e-11 5.2702041e-11 8.1541751e-10 2.0644758e-05 3.0364652e-12\n",
      "  9.9997675e-01 1.7116334e-12 4.6018599e-07 2.1380062e-08 2.1387953e-06]\n",
      " [7.3548947e-30 1.7954761e-16 6.1898777e-22 2.0137336e-22 9.9334359e-01\n",
      "  2.9738093e-13 1.9493163e-09 4.2614747e-17 6.6563929e-03 7.1271122e-15]\n",
      " [1.3428616e-09 9.9546742e-15 4.7602974e-08 4.5465842e-10 8.7463317e-19\n",
      "  2.0246379e-15 9.0820653e-17 1.0000000e+00 4.4078585e-11 1.2470140e-09]\n",
      " [7.4128138e-18 4.8396405e-20 1.2484093e-15 2.2654643e-14 4.9120637e-14\n",
      "  1.8266869e-07 3.1395183e-15 4.0750015e-18 9.9999976e-01 2.8608921e-12]\n",
      " [1.7987964e-27 1.1521966e-15 2.8531161e-16 1.0000000e+00 3.5070208e-18\n",
      "  9.3338760e-11 2.4337202e-27 8.2707279e-11 7.4121054e-19 5.6236726e-13]]\n"
     ]
    },
    {
     "data": {
      "text/plain": [
       "array([6, 5, 4, 7, 8, 3])"
      ]
     },
     "execution_count": 135,
     "metadata": {
      "tags": []
     },
     "output_type": "execute_result"
    }
   ],
   "source": [
    "#일괄 작업\n",
    "path  = input(\"input path : \")\n",
    "path_png = path + \"/*.png\"\n",
    "handWrite = glob.glob(path_png)\n",
    "for i in range(len(handWrite)):\n",
    "  print(handWrite[i])\n",
    "imgs = all_pre_process(handWrite)\n",
    "print(model_Dense64.predict(imgs))\n",
    "model_Dense64.predict_classes(imgs)"
   ]
  },
  {
   "cell_type": "code",
   "execution_count": null,
   "metadata": {
    "colab": {},
    "colab_type": "code",
    "id": "tL05NH1_llEU"
   },
   "outputs": [],
   "source": []
  },
  {
   "cell_type": "code",
   "execution_count": null,
   "metadata": {
    "colab": {},
    "colab_type": "code",
    "id": "-XOVSZtHi_EI"
   },
   "outputs": [],
   "source": [
    "data_data = np.load(\"test_data.npy\")\n",
    "data_label = np.load(\"test_label.npy\")"
   ]
  },
  {
   "cell_type": "code",
   "execution_count": 16,
   "metadata": {
    "colab": {
     "base_uri": "https://localhost:8080/",
     "height": 127
    },
    "colab_type": "code",
    "executionInfo": {
     "elapsed": 1359,
     "status": "ok",
     "timestamp": 1571982121033,
     "user": {
      "displayName": "이종현",
      "photoUrl": "",
      "userId": "13170448902282857811"
     },
     "user_tz": -540
    },
    "id": "MUsqD5MTY-rv",
    "outputId": "8371383a-9aa7-499a-d2b9-a97c387241a1"
   },
   "outputs": [
    {
     "data": {
      "text/plain": [
       "<matplotlib.image.AxesImage at 0x7f7315b4bb70>"
      ]
     },
     "execution_count": 16,
     "metadata": {
      "tags": []
     },
     "output_type": "execute_result"
    },
    {
     "data": {
      "image/png": "[encoded data removed]",
      "text/plain": [
       "<Figure size 432x288 with 5 Axes>"
      ]
     },
     "metadata": {
      "tags": []
     },
     "output_type": "display_data"
    }
   ],
   "source": [
    "img = data_data.reshape(-1,28,28)\n",
    "plt.subplot(\"151\")\n",
    "plt.imshow(img[0],cmap=\"gray\")\n",
    "plt.subplot(\"152\")\n",
    "plt.imshow(img[1],cmap=\"gray\")\n",
    "plt.subplot(\"153\")\n",
    "plt.imshow(img[2],cmap=\"gray\")\n",
    "plt.subplot(\"154\")\n",
    "plt.imshow(img[3],cmap=\"gray\")\n",
    "plt.subplot(\"155\")\n",
    "plt.imshow(img[4],cmap=\"gray\")"
   ]
  },
  {
   "cell_type": "code",
   "execution_count": 17,
   "metadata": {
    "colab": {
     "base_uri": "https://localhost:8080/",
     "height": 226
    },
    "colab_type": "code",
    "executionInfo": {
     "elapsed": 1019,
     "status": "error",
     "timestamp": 1571982135967,
     "user": {
      "displayName": "이종현",
      "photoUrl": "",
      "userId": "13170448902282857811"
     },
     "user_tz": -540
    },
    "id": "dHJTutzFl36K",
    "outputId": "027cdb2b-c59e-4b22-daeb-f94528dd8f07"
   },
   "outputs": [
    {
     "ename": "TypeError",
     "evalue": "ignored",
     "output_type": "error",
     "traceback": [
      "\u001b[0;31m---------------------------------------------------------------------------\u001b[0m",
      "\u001b[0;31mTypeError\u001b[0m                                 Traceback (most recent call last)",
      "\u001b[0;32m<ipython-input-17-0911b5cd3f82>\u001b[0m in \u001b[0;36m<module>\u001b[0;34m()\u001b[0m\n\u001b[0;32m----> 1\u001b[0;31m \u001b[0;32mfor\u001b[0m \u001b[0mi\u001b[0m \u001b[0;32min\u001b[0m \u001b[0mrange\u001b[0m\u001b[0;34m(\u001b[0m\u001b[0mdata_data\u001b[0m\u001b[0;34m[\u001b[0m\u001b[0;36m0\u001b[0m\u001b[0;34m]\u001b[0m\u001b[0;34m)\u001b[0m\u001b[0;34m:\u001b[0m\u001b[0;34m\u001b[0m\u001b[0;34m\u001b[0m\u001b[0m\n\u001b[0m\u001b[1;32m      2\u001b[0m   \u001b[0mimg_rev\u001b[0m\u001b[0;34m[\u001b[0m\u001b[0mi\u001b[0m\u001b[0;34m]\u001b[0m \u001b[0;34m=\u001b[0m \u001b[0mcv2\u001b[0m\u001b[0;34m.\u001b[0m\u001b[0mbitwise_not\u001b[0m\u001b[0;34m(\u001b[0m\u001b[0mdata_data\u001b[0m\u001b[0;34m[\u001b[0m\u001b[0mi\u001b[0m\u001b[0;34m]\u001b[0m\u001b[0;34m)\u001b[0m\u001b[0;34m\u001b[0m\u001b[0;34m\u001b[0m\u001b[0m\n\u001b[1;32m      3\u001b[0m   \u001b[0mimg_rev_gray\u001b[0m \u001b[0;34m=\u001b[0m \u001b[0mcv2\u001b[0m\u001b[0;34m.\u001b[0m\u001b[0mcvtColor\u001b[0m\u001b[0;34m(\u001b[0m\u001b[0mimg_rev\u001b[0m\u001b[0;34m,\u001b[0m\u001b[0mcv2\u001b[0m\u001b[0;34m.\u001b[0m\u001b[0mCOLOR_RGB2GRAY\u001b[0m\u001b[0;34m)\u001b[0m\u001b[0;34m\u001b[0m\u001b[0;34m\u001b[0m\u001b[0m\n\u001b[1;32m      4\u001b[0m   \u001b[0mimg_rev\u001b[0m \u001b[0;34m=\u001b[0m \u001b[0mimg_rev\u001b[0m\u001b[0;34m.\u001b[0m\u001b[0mastype\u001b[0m\u001b[0;34m(\u001b[0m\u001b[0;34m\"float32\"\u001b[0m\u001b[0;34m)\u001b[0m\u001b[0;34m/\u001b[0m\u001b[0;36m255\u001b[0m\u001b[0;34m\u001b[0m\u001b[0;34m\u001b[0m\u001b[0m\n",
      "\u001b[0;31mTypeError\u001b[0m: only integer scalar arrays can be converted to a scalar index"
     ]
    }
   ],
   "source": [
    "for i in range(data_data[0]):\n",
    "  img_rev[i] = cv2.bitwise_not(data_data[i])\n",
    "  img_rev_gray = cv2.cvtColor(img_rev,cv2.COLOR_RGB2GRAY)\n",
    "  img_rev = img_rev.astype(\"float32\")/255"
   ]
  },
  {
   "cell_type": "code",
   "execution_count": null,
   "metadata": {
    "colab": {
     "base_uri": "https://localhost:8080/",
     "height": 136
    },
    "colab_type": "code",
    "executionInfo": {
     "elapsed": 894,
     "status": "error",
     "timestamp": 1571972795624,
     "user": {
      "displayName": "이종현",
      "photoUrl": "",
      "userId": "13170448902282857811"
     },
     "user_tz": -540
    },
    "id": "OjnPa31w3yHV",
    "outputId": "ac677965-26d9-40e7-866c-b8e96960439d"
   },
   "outputs": [
    {
     "ename": "SyntaxError",
     "evalue": "ignored",
     "output_type": "error",
     "traceback": [
      "\u001b[0;36m  File \u001b[0;32m\"<ipython-input-49-50d914b8d398>\"\u001b[0;36m, line \u001b[0;32m2\u001b[0m\n\u001b[0;31m    data_data[0].[0]\u001b[0m\n\u001b[0m                 ^\u001b[0m\n\u001b[0;31mSyntaxError\u001b[0m\u001b[0;31m:\u001b[0m invalid syntax\n"
     ]
    }
   ],
   "source": [
    "data_data[0].[0]"
   ]
  },
  {
   "cell_type": "code",
   "execution_count": null,
   "metadata": {
    "colab": {
     "base_uri": "https://localhost:8080/",
     "height": 53
    },
    "colab_type": "code",
    "executionInfo": {
     "elapsed": 760,
     "status": "ok",
     "timestamp": 1571968986390,
     "user": {
      "displayName": "이종현",
      "photoUrl": "",
      "userId": "13170448902282857811"
     },
     "user_tz": -540
    },
    "id": "EZnlcKQsl-Ku",
    "outputId": "a6b039d5-6a60-49eb-b5f7-a4a67e4022ab"
   },
   "outputs": [
    {
     "data": {
      "text/plain": [
       "array([8, 9, 9, 0, 9, 0, 9, 8, 9, 6, 3, 8, 8, 9, 1, 9, 1, 9, 9, 8, 9, 9,\n",
       "       0, 9, 9, 9, 9, 0, 0, 8, 0, 9, 9, 0, 8, 8, 9, 9, 0])"
      ]
     },
     "execution_count": 39,
     "metadata": {
      "tags": []
     },
     "output_type": "execute_result"
    }
   ],
   "source": [
    "model_Dense64.predict_classes(data_data)"
   ]
  },
  {
   "cell_type": "code",
   "execution_count": null,
   "metadata": {
    "colab": {
     "base_uri": "https://localhost:8080/",
     "height": 719
    },
    "colab_type": "code",
    "executionInfo": {
     "elapsed": 858,
     "status": "ok",
     "timestamp": 1571971447435,
     "user": {
      "displayName": "이종현",
      "photoUrl": "",
      "userId": "13170448902282857811"
     },
     "user_tz": -540
    },
    "id": "YSc8h8m_zGQs",
    "outputId": "f4e3db58-4b21-4d96-f157-22418c25725b"
   },
   "outputs": [
    {
     "name": "stdout",
     "output_type": "stream",
     "text": [
      "[[1. 0. 0.]\n",
      " [1. 0. 0.]\n",
      " [0. 1. 0.]\n",
      " [0. 1. 0.]\n",
      " [1. 0. 0.]\n",
      " [0. 0. 1.]\n",
      " [1. 0. 0.]\n",
      " [0. 0. 1.]\n",
      " [0. 0. 1.]\n",
      " [0. 1. 0.]\n",
      " [0. 1. 0.]\n",
      " [0. 0. 1.]\n",
      " [1. 0. 0.]\n",
      " [0. 0. 1.]\n",
      " [0. 1. 0.]\n",
      " [0. 0. 1.]\n",
      " [0. 0. 1.]\n",
      " [0. 0. 1.]\n",
      " [1. 0. 0.]\n",
      " [0. 1. 0.]\n",
      " [1. 0. 0.]\n",
      " [1. 0. 0.]\n",
      " [0. 0. 1.]\n",
      " [0. 1. 0.]\n",
      " [0. 1. 0.]\n",
      " [0. 1. 0.]\n",
      " [1. 0. 0.]\n",
      " [0. 1. 0.]\n",
      " [0. 0. 1.]\n",
      " [1. 0. 0.]\n",
      " [0. 1. 0.]\n",
      " [1. 0. 0.]\n",
      " [1. 0. 0.]\n",
      " [0. 1. 0.]\n",
      " [0. 0. 1.]\n",
      " [0. 0. 1.]\n",
      " [0. 1. 0.]\n",
      " [0. 0. 1.]\n",
      " [1. 0. 0.]]\n"
     ]
    }
   ],
   "source": [
    "print(data_label)"
   ]
  },
  {
   "cell_type": "code",
   "execution_count": null,
   "metadata": {
    "colab": {
     "base_uri": "https://localhost:8080/",
     "height": 1000
    },
    "colab_type": "code",
    "executionInfo": {
     "elapsed": 1605,
     "status": "ok",
     "timestamp": 1571969022405,
     "user": {
      "displayName": "이종현",
      "photoUrl": "",
      "userId": "13170448902282857811"
     },
     "user_tz": -540
    },
    "id": "KaOwcdkbpynL",
    "outputId": "a8871960-f354-4bbd-c536-9d38ed43ad71"
   },
   "outputs": [
    {
     "data": {
      "text/plain": [
       "array([[1.23676971e-01, 2.94557074e-04, 9.42317247e-02, 5.13355015e-03,\n",
       "        5.10220900e-02, 2.74343300e-04, 1.23279484e-03, 1.36787840e-03,\n",
       "        6.16185844e-01, 1.06580220e-01],\n",
       "       [2.72092111e-02, 1.55843735e-01, 2.64590625e-02, 6.99993595e-02,\n",
       "        1.43169120e-01, 3.40566449e-02, 3.40257324e-02, 7.62036443e-02,\n",
       "        1.30388409e-01, 3.02645057e-01],\n",
       "       [1.12409089e-02, 1.41972944e-01, 1.59042943e-02, 1.60336599e-01,\n",
       "        1.09713309e-01, 7.40054697e-02, 3.18094008e-02, 3.32830288e-02,\n",
       "        1.21727839e-01, 3.00006241e-01],\n",
       "       [8.20175946e-01, 9.04693807e-05, 4.47810220e-04, 2.40676934e-04,\n",
       "        8.06084573e-02, 8.41551810e-04, 6.18295884e-03, 5.86096256e-04,\n",
       "        8.08473094e-04, 9.00176018e-02],\n",
       "       [3.34224552e-01, 2.31808642e-10, 2.45086905e-02, 2.22776805e-07,\n",
       "        1.09954709e-02, 3.49967394e-07, 2.03882038e-07, 7.03614447e-08,\n",
       "        3.02900746e-03, 6.27241433e-01],\n",
       "       [3.88396293e-01, 3.84426527e-02, 1.41715854e-02, 2.21828297e-02,\n",
       "        1.30040780e-01, 5.30055538e-02, 1.14967562e-01, 5.24275228e-02,\n",
       "        4.29634303e-02, 1.43401816e-01],\n",
       "       [3.56600508e-02, 8.15762281e-02, 2.34452579e-02, 3.36573124e-02,\n",
       "        1.53819084e-01, 3.08959819e-02, 2.11560912e-02, 2.43052617e-02,\n",
       "        2.89552242e-01, 3.05932462e-01],\n",
       "       [3.06777481e-04, 4.56038237e-17, 3.97748426e-02, 1.24323208e-07,\n",
       "        7.09039477e-06, 3.69315529e-08, 6.13088413e-10, 9.38351718e-13,\n",
       "        9.49791610e-01, 1.01194885e-02],\n",
       "       [1.51656225e-01, 1.71886523e-08, 7.00855441e-03, 3.89758684e-03,\n",
       "        1.88478196e-04, 1.06629415e-03, 1.72441170e-04, 3.33774125e-07,\n",
       "        2.72581518e-01, 5.63428521e-01],\n",
       "       [4.45397645e-02, 4.01684980e-19, 2.55972955e-05, 3.75505538e-09,\n",
       "        5.80488047e-10, 1.65049778e-03, 4.95176107e-01, 3.20768523e-18,\n",
       "        4.58397359e-01, 2.10597878e-04],\n",
       "       [1.04972115e-02, 1.00368656e-08, 5.53905556e-06, 9.68356252e-01,\n",
       "        2.98617209e-07, 4.42740071e-04, 1.38689775e-05, 1.34234546e-09,\n",
       "        1.66701432e-02, 4.01383406e-03],\n",
       "       [2.12246040e-03, 3.97186341e-07, 3.79403196e-02, 8.26078758e-05,\n",
       "        1.89135466e-02, 2.09056020e-06, 9.79719880e-06, 1.05317404e-05,\n",
       "        9.35181320e-01, 5.73698664e-03],\n",
       "       [9.89388488e-03, 2.70834007e-05, 1.91915333e-02, 4.23985533e-02,\n",
       "        1.26787759e-02, 3.46392408e-05, 3.73932591e-04, 1.61351651e-04,\n",
       "        6.04243040e-01, 3.10997248e-01],\n",
       "       [2.46083234e-02, 1.32503897e-01, 2.41148882e-02, 6.53338283e-02,\n",
       "        1.51207179e-01, 4.07676883e-02, 3.11869401e-02, 4.82946970e-02,\n",
       "        1.52869582e-01, 3.29112977e-01],\n",
       "       [2.56938972e-02, 2.28491291e-01, 3.35429348e-02, 6.76073432e-02,\n",
       "        1.28932983e-01, 6.19964860e-02, 4.47057709e-02, 5.79638444e-02,\n",
       "        1.41918823e-01, 2.09146619e-01],\n",
       "       [2.05596033e-02, 1.68606788e-01, 3.50094102e-02, 8.15403834e-02,\n",
       "        1.23703703e-01, 4.37712111e-02, 2.39411257e-02, 4.88351546e-02,\n",
       "        1.96479410e-01, 2.57553190e-01],\n",
       "       [2.47701239e-02, 2.40519494e-01, 3.32243703e-02, 6.83951974e-02,\n",
       "        1.21032789e-01, 6.67692870e-02, 4.59682792e-02, 5.92432097e-02,\n",
       "        1.35990754e-01, 2.04086438e-01],\n",
       "       [5.76287284e-02, 1.00863889e-01, 2.62981243e-02, 1.30546987e-01,\n",
       "        8.66202042e-02, 6.50046021e-02, 3.08964960e-02, 3.40611227e-02,\n",
       "        2.24755049e-01, 2.43324801e-01],\n",
       "       [1.63471233e-02, 2.38104332e-02, 9.80934277e-02, 6.44683614e-02,\n",
       "        6.90606833e-02, 1.34971784e-03, 4.92224644e-04, 1.21812830e-02,\n",
       "        2.23629162e-01, 4.90567595e-01],\n",
       "       [1.63940303e-02, 4.81617264e-02, 1.98912770e-02, 2.09284395e-01,\n",
       "        2.54575368e-02, 5.52171841e-02, 8.11319239e-03, 7.28060957e-03,\n",
       "        3.34756702e-01, 2.75443286e-01],\n",
       "       [1.36222402e-02, 1.54589042e-01, 1.65942013e-02, 7.79148862e-02,\n",
       "        1.75222993e-01, 6.35464787e-02, 4.70513292e-02, 4.71030995e-02,\n",
       "        1.10457480e-01, 2.93898284e-01],\n",
       "       [6.64820243e-03, 2.14993060e-02, 1.12683568e-02, 8.32856074e-02,\n",
       "        5.81738986e-02, 2.28624605e-03, 1.66656601e-03, 1.93059873e-02,\n",
       "        1.98103935e-01, 5.97761929e-01],\n",
       "       [7.60649800e-01, 8.04542506e-05, 6.66231988e-03, 7.29906261e-02,\n",
       "        2.81323682e-05, 2.47569121e-02, 4.42683734e-02, 5.91201399e-07,\n",
       "        9.03881192e-02, 1.74673114e-04],\n",
       "       [1.40820086e-01, 4.78388965e-02, 1.59295220e-02, 7.46324658e-02,\n",
       "        9.02519897e-02, 7.47655481e-02, 9.99023467e-02, 1.29625648e-02,\n",
       "        5.49995303e-02, 3.87897015e-01],\n",
       "       [5.65348677e-02, 6.69194236e-02, 2.72278972e-02, 8.39467570e-02,\n",
       "        1.06906846e-01, 3.94813903e-02, 2.06185672e-02, 2.14489195e-02,\n",
       "        2.11721256e-01, 3.65194112e-01],\n",
       "       [1.77007113e-02, 1.58978447e-01, 2.04318836e-02, 1.69937477e-01,\n",
       "        9.33927074e-02, 7.71555901e-02, 3.94156873e-02, 3.42723876e-02,\n",
       "        1.24198116e-01, 2.64517039e-01],\n",
       "       [2.12022401e-02, 2.01455221e-01, 2.94249300e-02, 6.19346648e-02,\n",
       "        1.55575678e-01, 5.74439503e-02, 4.77241836e-02, 5.66094331e-02,\n",
       "        1.14704013e-01, 2.53925711e-01],\n",
       "       [9.99567688e-01, 4.66041339e-09, 2.09536320e-05, 2.95800760e-06,\n",
       "        5.81996537e-05, 4.62015322e-07, 5.63926333e-05, 1.13253357e-07,\n",
       "        1.09075499e-05, 2.82277411e-04],\n",
       "       [8.53957832e-01, 3.80019955e-16, 1.28970653e-01, 1.23398868e-05,\n",
       "        1.29031105e-06, 3.47213902e-09, 2.98794434e-10, 2.47661943e-11,\n",
       "        1.23554263e-02, 4.70246235e-03],\n",
       "       [6.38866413e-06, 3.52541968e-16, 2.41459304e-07, 1.53823271e-06,\n",
       "        1.05138259e-11, 6.22324251e-07, 2.85052083e-05, 5.57411366e-16,\n",
       "        9.99952197e-01, 1.05293711e-05],\n",
       "       [7.78153956e-01, 5.80773190e-08, 2.52666796e-04, 2.03035961e-05,\n",
       "        5.23289479e-03, 1.79245355e-04, 1.50347129e-01, 1.48384288e-07,\n",
       "        6.52924925e-02, 5.21047332e-04],\n",
       "       [9.00522098e-02, 2.20767961e-05, 1.98094826e-02, 3.35915834e-02,\n",
       "        3.84405418e-03, 3.36711900e-03, 1.05879991e-03, 7.21233882e-05,\n",
       "        1.02374613e-01, 7.45807886e-01],\n",
       "       [2.00157594e-02, 1.06209271e-01, 1.21546648e-02, 5.22310510e-02,\n",
       "        1.96770445e-01, 3.99747230e-02, 3.18395160e-02, 6.09073937e-02,\n",
       "        1.17323920e-01, 3.62573266e-01],\n",
       "       [9.99969006e-01, 1.73584282e-17, 2.83115128e-07, 1.14856766e-06,\n",
       "        1.36658983e-11, 4.57460523e-08, 2.05336278e-06, 8.66630410e-15,\n",
       "        1.59624119e-06, 2.57670890e-05],\n",
       "       [3.83051904e-03, 4.49701818e-03, 4.43719141e-02, 2.12095156e-01,\n",
       "        8.84582638e-04, 7.01704482e-03, 3.71035829e-04, 8.19368579e-04,\n",
       "        6.77383125e-01, 4.87302765e-02],\n",
       "       [3.84130469e-03, 8.75709447e-05, 5.29706059e-03, 5.40132896e-05,\n",
       "        4.74368073e-02, 3.76469907e-05, 8.80546577e-05, 3.49579472e-03,\n",
       "        9.13911164e-01, 2.57505160e-02],\n",
       "       [1.99469011e-02, 1.73511356e-01, 1.57110523e-02, 6.62724152e-02,\n",
       "        1.64347053e-01, 5.44879474e-02, 5.62412478e-02, 5.06496057e-02,\n",
       "        8.72904584e-02, 3.11541945e-01],\n",
       "       [1.68512277e-02, 8.81616250e-02, 1.03794904e-02, 3.04257087e-02,\n",
       "        2.12580875e-01, 2.37617809e-02, 3.49791907e-02, 4.43833247e-02,\n",
       "        8.58429968e-02, 4.52633798e-01],\n",
       "       [9.90255058e-01, 6.39513946e-20, 4.51331016e-06, 2.73110675e-15,\n",
       "        1.40886824e-03, 1.26393850e-13, 2.09914003e-10, 2.09888134e-16,\n",
       "        1.80423885e-04, 8.15118663e-03]], dtype=float32)"
      ]
     },
     "execution_count": 41,
     "metadata": {
      "tags": []
     },
     "output_type": "execute_result"
    }
   ],
   "source": [
    "model_Dense64.predict(data_data)"
   ]
  },
  {
   "cell_type": "code",
   "execution_count": null,
   "metadata": {
    "colab": {},
    "colab_type": "code",
    "id": "LBlOFvM7p5OP"
   },
   "outputs": [],
   "source": []
  }
 ],
 "metadata": {
  "accelerator": "GPU",
  "colab": {
   "collapsed_sections": [],
   "name": "Jonghyun_code.ipynb",
   "provenance": [],
   "toc_visible": true
  },
  "kernelspec": {
   "display_name": "Python 3",
   "language": "python",
   "name": "python3"
  },
  "language_info": {
   "codemirror_mode": {
    "name": "ipython",
    "version": 3
   },
   "file_extension": ".py",
   "mimetype": "text/x-python",
   "name": "python",
   "nbconvert_exporter": "python",
   "pygments_lexer": "ipython3",
   "version": "3.6.9"
  }
 },
 "nbformat": 4,
 "nbformat_minor": 4
}
