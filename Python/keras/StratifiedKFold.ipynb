{
 "cells": [
  {
   "attachments": {
    "image.png": {
     "image/png": "[encoded data removed]"
    }
   },
   "cell_type": "markdown",
   "metadata": {},
   "source": [
    "## Stratified k-fold\n",
    "<h5>https://scikit-learn.org/stable/modules/cross_validation.html</h5>\n",
    "    \n",
    "---\n",
    "<h3> 3.1.2.2.1. Stratified k-fold</h3>\n",
    "\n",
    "StratifiedKFold is a variation of k-fold which returns stratified folds: each set contains approximately the same percentage of samples of each target class as the complete set.<br>\n",
    "stratify (stratified) : 층을 이루게 하다, 계층화하다. \n",
    "\n",
    "![image.png](attachment:image.png)\n",
    "\n"
   ]
  },
  {
   "cell_type": "code",
   "execution_count": 3,
   "metadata": {},
   "outputs": [],
   "source": [
    "from sklearn.model_selection import StratifiedKFold, KFold\n",
    "import numpy as np"
   ]
  },
  {
   "cell_type": "code",
   "execution_count": 27,
   "metadata": {},
   "outputs": [],
   "source": [
    "# 45개의 0, 5개의 1로 구성되어있는 Set y\n",
    "X, y = np.ones((50, 1)), np.hstack(([0] * 45, [1] * 5))"
   ]
  },
  {
   "cell_type": "code",
   "execution_count": 21,
   "metadata": {},
   "outputs": [
    {
     "name": "stdout",
     "output_type": "stream",
     "text": [
      "(50, 1)\n",
      "(50,)\n"
     ]
    }
   ],
   "source": [
    "print(X.shape)\n",
    "print(y.shape)"
   ]
  },
  {
   "cell_type": "code",
   "execution_count": 65,
   "metadata": {},
   "outputs": [],
   "source": [
    "# n_splits 만큼의 fold 진행\n",
    "skf = StratifiedKFold(n_splits=5)\n"
   ]
  },
  {
   "cell_type": "code",
   "execution_count": 30,
   "metadata": {},
   "outputs": [
    {
     "data": {
      "text/plain": [
       "array([1, 3, 1], dtype=int64)"
      ]
     },
     "execution_count": 30,
     "metadata": {},
     "output_type": "execute_result"
    }
   ],
   "source": [
    "# 0 : 1개 // 1: 3개 // 2: 1개\n",
    "a = [1,2,1,1,0]\n",
    "np.bincount(a)"
   ]
  },
  {
   "cell_type": "code",
   "execution_count": 48,
   "metadata": {},
   "outputs": [
    {
     "name": "stdout",
     "output_type": "stream",
     "text": [
      "train : [36  4]   ||  test : [9 1]\n",
      "train : [36  4]   ||  test : [9 1]\n",
      "train : [36  4]   ||  test : [9 1]\n",
      "train : [36  4]   ||  test : [9 1]\n",
      "train : [36  4]   ||  test : [9 1]\n"
     ]
    }
   ],
   "source": [
    "# StratifiedKFold\n",
    "for train, test in skf.split(X,y):\n",
    "    # 5번의 fold로 나누어 train, test set을 구성했을때 \n",
    "        # train Set : 36개의 [0] , 4개의 [1]\n",
    "        # test Set : (45/5) = 9개의 [0], (5/5) = 1개의 [1]로 구성\n",
    "    print('train : {}   ||  test : {}'.format(np.bincount(y[train]),np.bincount((y[test]))))"
   ]
  },
  {
   "cell_type": "code",
   "execution_count": 53,
   "metadata": {},
   "outputs": [],
   "source": [
    "# skf.split(X, y, groups=None)\n",
    "# Parameters\n",
    "# ----------\n",
    "# X : array-like, shape (n_samples, n_features)\n",
    "#     50개의 샘플, 1개의 feature\n",
    "#     Training data, where n_samples is the number of samples\n",
    "#     and n_features is the number of features.\n",
    "\n",
    "#     Note that providing ``y`` is sufficient to generate the splits and\n",
    "#     hence ``np.zeros(n_samples)`` may be used as a placeholder for\n",
    "#     ``X`` instead of actual training data.\n",
    "\n",
    "# y : array-like, shape (n_samples,)\n",
    "#     The target variable for supervised learning problems.\n",
    "#     Stratification is done based on the y labels.\n",
    "\n",
    "# groups : object\n",
    "#     Always ignored, exists for compatibility.\n",
    "\n",
    "# Yields\n",
    "# ------\n",
    "# train : ndarray\n",
    "#     The training set indices for that split.\n",
    "\n",
    "# test : ndarray\n",
    "#     The testing set indices for that split.\n"
   ]
  },
  {
   "cell_type": "code",
   "execution_count": 81,
   "metadata": {},
   "outputs": [
    {
     "name": "stdout",
     "output_type": "stream",
     "text": [
      "-----------Shuffle X -----------\n",
      "train : [20  5]   ||  test : [25]\n",
      "train : [25]   ||  test : [20  5]\n",
      "-----------Shuffle O -----------\n",
      "train : [30  3]   ||  test : [15  2]\n",
      "train : [28  5]   ||  test : [17]\n",
      "train : [32  2]   ||  test : [13  3]\n"
     ]
    }
   ],
   "source": [
    "#K_Fold\n",
    "kf = KFold(n_splits=2)\n",
    "print(\"-----------Shuffle X -----------\")\n",
    "for train, test in kf.split(X,y):\n",
    "    # 2번의 fold로 나누어 train, test set을 구성했을때 \n",
    "        #20 + 25 = 45\n",
    "        # 5 + 0 = 5\n",
    "        # ~~shuffle 를 하지 않았을경우 한번 test set으로 사용한 데이터는 다시 test set으로 들어가지 않음~~ ==> X\n",
    "        \n",
    "    print('train : {}   ||  test : {}'.format(np.bincount(y[train]),np.bincount((y[test]))))\n",
    "\n",
    "    \n",
    "print(\"-----------Shuffle O -----------\")\n",
    "kfS = KFold(n_splits=3,shuffle=True)\n",
    "for train, test in kfS.split(X,y):\n",
    "    # shuffle을 해도 test set으로 사용한 데이터는 다시 test set으로 들어가지 않음 but 사용하는 index를 0,1,2,3,4 에서 랜덤하게 바꿈\n",
    "    print('train : {}   ||  test : {}'.format(np.bincount(y[train]),np.bincount((y[test]))))"
   ]
  },
  {
   "cell_type": "code",
   "execution_count": null,
   "metadata": {},
   "outputs": [],
   "source": []
  },
  {
   "cell_type": "code",
   "execution_count": null,
   "metadata": {},
   "outputs": [],
   "source": []
  }
 ],
 "metadata": {
  "kernelspec": {
   "display_name": "Python 3",
   "language": "python",
   "name": "python3"
  },
  "language_info": {
   "codemirror_mode": {
    "name": "ipython",
    "version": 3
   },
   "file_extension": ".py",
   "mimetype": "text/x-python",
   "name": "python",
   "nbconvert_exporter": "python",
   "pygments_lexer": "ipython3",
   "version": "3.6.9"
  }
 },
 "nbformat": 4,
 "nbformat_minor": 4
}
