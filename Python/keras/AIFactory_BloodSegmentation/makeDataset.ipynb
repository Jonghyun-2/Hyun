{
 "cells": [
  {
   "cell_type": "code",
   "execution_count": 1,
   "metadata": {},
   "outputs": [],
   "source": [
    "import glob\n",
    "import cv2 as cv\n",
    "import numpy as np\n",
    "import pandas as pd\n",
    "import os\n",
    "import matplotlib.pyplot as plt"
   ]
  },
  {
   "cell_type": "markdown",
   "metadata": {},
   "source": [
    "### Set path\n",
    "---"
   ]
  },
  {
   "cell_type": "code",
   "execution_count": 8,
   "metadata": {},
   "outputs": [],
   "source": [
    "rootDir = r'../../../Dataset/AIFactoryDataset/Data'\n",
    "\n",
    "trainImgPath = os.path.join(rootDir, r'first_train/train_image/')\n",
    "testImgPath = os.path.join(rootDir,r'test_image/')\n",
    "\n",
    "trainImgsList = glob.glob(trainImgPath + r'*.tif')\n",
    "testImgsList = glob.glob(testImgPath + r'*.tif')\n"
   ]
  },
  {
   "cell_type": "code",
   "execution_count": 3,
   "metadata": {},
   "outputs": [],
   "source": [
    "outPutPath = os.path.join(rootDir, r'outPut/')"
   ]
  },
  {
   "cell_type": "markdown",
   "metadata": {},
   "source": [
    "이미지 갯수 : Test :400, Train : 400\n",
    "\n",
    "\n",
    "img.shape = (852,852,3)"
   ]
  },
  {
   "cell_type": "markdown",
   "metadata": {},
   "source": [
    "### Make Def\n",
    "---"
   ]
  },
  {
   "cell_type": "code",
   "execution_count": 4,
   "metadata": {},
   "outputs": [],
   "source": [
    "# 경로를 입력받아 ndarray로 반환 해주는 함수\n",
    "# Return : (n , rows, cols, depths)  // n은 이미지 갯수(장수)\n",
    "# 입력이미지 크기는 모두 같아야함\n",
    "def pathToArray(path):\n",
    "    count =0\n",
    "    # 경로수만큼 반복(len(path))\n",
    "    for i in range(len(path)):\n",
    "        img = cv.imread(path[i])\n",
    "        \n",
    "        #이미지 RGB To Gray\n",
    "        imgGray = cv.cvtColor(img,cv.COLOR_RGB2GRAY)\n",
    "        \n",
    "        # Aixs(축 추가) : Gray Img로 바꾸면 맨 뒤쪽 depths축도 사라지므로 추가해주어야함\n",
    "        # (852,852) -> (1,852,852,1) 으로 shape 변환\n",
    "        addAxis = imgGray[np.newaxis,...,np.newaxis]\n",
    "        \n",
    "        # 반복문의 맨 처음일때 base가 될 이미지 (첫번째 이미지) 지정\n",
    "        if count == 0:\n",
    "            returnImg = addAxis\n",
    "        \n",
    "        # base가 될 이미지 뒤에 덧붙임 결과는\n",
    "        # (n, 852,852,1) : (n장, rows, cols, depth)\n",
    "        else:\n",
    "            returnImg = np.concatenate((returnImg, addAxis),axis =0)\n",
    "        count += 1\n",
    "        \n",
    "        if count % 50 ==0:\n",
    "            print(count,'/',len(path), end=\"\\t\")\n",
    "    print(\"Done\")\n",
    "    return returnImg"
   ]
  },
  {
   "cell_type": "code",
   "execution_count": 5,
   "metadata": {},
   "outputs": [
    {
     "name": "stdout",
     "output_type": "stream",
     "text": [
      "50 / 400\t100 / 400\t150 / 400\t200 / 400\t250 / 400\t300 / 400\t350 / 400\t400 / 400\tDone\n"
     ]
    }
   ],
   "source": [
    "trainImg_array = pathToArray(trainImgsList)\n",
    "np.save(outPutPath + 'train.npy',trainImg_array)"
   ]
  },
  {
   "cell_type": "code",
   "execution_count": 10,
   "metadata": {},
   "outputs": [
    {
     "name": "stdout",
     "output_type": "stream",
     "text": [
      "50 / 400\t100 / 400\t150 / 400\t200 / 400\t250 / 400\t300 / 400\t350 / 400\t400 / 400\tDone\n"
     ]
    }
   ],
   "source": [
    "testImg_array = pathToArray(testImgsList)\n",
    "np.save(outPutPath + 'test.npy',testImg_array)"
   ]
  },
  {
   "cell_type": "code",
   "execution_count": 11,
   "metadata": {},
   "outputs": [],
   "source": [
    "#def img_resize(scale):"
   ]
  },
  {
   "cell_type": "code",
   "execution_count": null,
   "metadata": {},
   "outputs": [],
   "source": []
  },
  {
   "cell_type": "code",
   "execution_count": null,
   "metadata": {},
   "outputs": [],
   "source": []
  },
  {
   "cell_type": "code",
   "execution_count": null,
   "metadata": {},
   "outputs": [],
   "source": []
  },
  {
   "cell_type": "code",
   "execution_count": null,
   "metadata": {},
   "outputs": [],
   "source": []
  },
  {
   "cell_type": "markdown",
   "metadata": {},
   "source": [
    "### Load Array\n",
    "---\n"
   ]
  },
  {
   "cell_type": "code",
   "execution_count": 24,
   "metadata": {},
   "outputs": [
    {
     "name": "stdout",
     "output_type": "stream",
     "text": [
      "(400, 852, 852, 1)\n",
      "(400, 852, 852, 1)\n"
     ]
    }
   ],
   "source": [
    "testImg_array = np.load(os.path.join(outPutPath,'test.npy'))\n",
    "print(testImg_array.shape)\n",
    "\n",
    "trainImg_array = np.load(os.path.join(outPutPath,'train.npy'))\n",
    "print(trainImg_array.shape)"
   ]
  },
  {
   "cell_type": "markdown",
   "metadata": {},
   "source": [
    "### view Array\n",
    "---"
   ]
  },
  {
   "cell_type": "code",
   "execution_count": null,
   "metadata": {},
   "outputs": [],
   "source": [
    "index = 0\n",
    "array = testImg_array\n",
    "\n",
    "plt.figure(figsize=(16,10))\n",
    "\n",
    "plt.subplot(141)\n",
    "plt.title((\"index : \", index))\n",
    "plt.imshow(array[index,...,0],cmap=plt.cm.gray)\n",
    "\n",
    "plt.subplot(142)\n",
    "plt.title((\"index : \", index+1))\n",
    "plt.imshow(array[index+1,...,0],cmap=plt.cm.gray)\n",
    "\n",
    "plt.subplot(143)\n",
    "plt.title((\"index : \", index+2))\n",
    "plt.imshow(array[index+2,...,0],cmap=plt.cm.gray)\n",
    "\n",
    "plt.subplot(144)\n",
    "plt.title((\"index : \", index+3))\n",
    "plt.imshow(array[index+3,...,0],cmap=plt.cm.gray)"
   ]
  },
  {
   "cell_type": "code",
   "execution_count": null,
   "metadata": {},
   "outputs": [],
   "source": []
  },
  {
   "cell_type": "code",
   "execution_count": null,
   "metadata": {},
   "outputs": [],
   "source": []
  },
  {
   "cell_type": "code",
   "execution_count": null,
   "metadata": {},
   "outputs": [],
   "source": []
  },
  {
   "cell_type": "code",
   "execution_count": null,
   "metadata": {},
   "outputs": [],
   "source": []
  },
  {
   "cell_type": "code",
   "execution_count": null,
   "metadata": {},
   "outputs": [],
   "source": []
  },
  {
   "cell_type": "code",
   "execution_count": null,
   "metadata": {},
   "outputs": [],
   "source": []
  }
 ],
 "metadata": {
  "kernelspec": {
   "display_name": "Python 3",
   "language": "python",
   "name": "python3"
  },
  "language_info": {
   "codemirror_mode": {
    "name": "ipython",
    "version": 3
   },
   "file_extension": ".py",
   "mimetype": "text/x-python",
   "name": "python",
   "nbconvert_exporter": "python",
   "pygments_lexer": "ipython3",
   "version": "3.7.6"
  }
 },
 "nbformat": 4,
 "nbformat_minor": 4
}
