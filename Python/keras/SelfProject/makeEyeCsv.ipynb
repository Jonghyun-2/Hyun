{
 "cells": [
  {
   "cell_type": "code",
   "execution_count": 1,
   "metadata": {},
   "outputs": [],
   "source": [
    "import cv2\n",
    "import matplotlib.pyplot as plt\n",
    "import numpy\n",
    "import glob\n",
    "import numpy as np\n",
    "import pandas as pd"
   ]
  },
  {
   "cell_type": "code",
   "execution_count": 5,
   "metadata": {},
   "outputs": [
    {
     "data": {
      "text/plain": [
       "['D:\\\\Dataset\\\\De_id_sample_data\\\\Sample_data2\\\\front',\n",
       " 'D:\\\\Dataset\\\\De_id_sample_data\\\\Sample_data2\\\\side',\n",
       " 'D:\\\\Dataset\\\\De_id_sample_data\\\\Sample_data2\\\\smile']"
      ]
     },
     "execution_count": 5,
     "metadata": {},
     "output_type": "execute_result"
    }
   ],
   "source": [
    "eyePaths = glob.glob(\"D:\\Dataset\\De_id_sample_data\\Sample_data2\\*\",recursive=True)\n",
    "eyePaths"
   ]
  },
  {
   "cell_type": "code",
   "execution_count": 6,
   "metadata": {},
   "outputs": [],
   "source": [
    "#original img size (5184 * 3456)\n",
    "\n",
    "frontPaths = glob.glob(eyePaths[0] + \"\\*.jpg\")\n",
    "sidePaths = glob.glob(eyePaths[1] + \"\\*.jpg\")\n",
    "smilePaths = glob.glob(eyePaths[2] + \"\\*.jpg\")"
   ]
  },
  {
   "cell_type": "code",
   "execution_count": 7,
   "metadata": {},
   "outputs": [],
   "source": [
    "def frontMouseParams(event, x,y, flag, params):\n",
    "    global lx,ly,rx,ry\n",
    "    if event ==cv2.EVENT_LBUTTONUP:\n",
    "        lx = x\n",
    "        ly = y \n",
    "        print(lx,ly)\n",
    "    if event == cv2.EVENT_RBUTTONUP:\n",
    "        rx = x\n",
    "        ry = y\n",
    "        print(rx,ry)"
   ]
  },
  {
   "cell_type": "code",
   "execution_count": 26,
   "metadata": {},
   "outputs": [
    {
     "name": "stdout",
     "output_type": "stream",
     "text": [
      "IMG_6682.JPG\n",
      "447 302\n",
      "555 302\n",
      "IMG_6685.JPG\n",
      "451 292\n",
      "574 289\n",
      "IMG_6688.JPG\n",
      "452 301\n",
      "560 301\n",
      "IMG_6691.JPG\n",
      "442 273\n",
      "550 274\n",
      "IMG_6694.JPG\n",
      "445 285\n",
      "556 285\n",
      "IMG_6697.JPG\n",
      "447 304\n",
      "561 305\n",
      "IMG_6700.JPG\n",
      "458 290\n",
      "567 288\n",
      "IMG_6703.JPG\n",
      "466 299\n",
      "563 305\n",
      "IMG_6706.JPG\n",
      "466 291\n",
      "572 294\n",
      "IMG_6709.JPG\n",
      "459 281\n",
      "567 284\n",
      "IMG_6712.JPG\n",
      "456 281\n",
      "569 281\n",
      "IMG_6715.JPG\n",
      "453 291\n",
      "566 291\n",
      "IMG_6718.JPG\n",
      "434 248\n",
      "559 242\n",
      "IMG_6721.JPG\n",
      "466 299\n",
      "562 306\n",
      "IMG_6724.JPG\n",
      "460 286\n",
      "561 288\n",
      "IMG_6727.JPG\n",
      "451 362\n",
      "562 363\n",
      "IMG_6730.JPG\n",
      "452 321\n",
      "565 321\n",
      "IMG_6733.JPG\n",
      "456 310\n",
      "568 311\n",
      "IMG_6736.JPG\n",
      "452 304\n",
      "552 308\n",
      "IMG_6739.JPG\n",
      "449 334\n",
      "556 331\n",
      "IMG_6742.JPG\n",
      "449 306\n",
      "567 315\n",
      "IMG_6745.JPG\n",
      "446 298\n",
      "570 301\n",
      "IMG_6748.JPG\n",
      "455 313\n",
      "567 317\n",
      "IMG_6751.JPG\n",
      "437 335\n",
      "563 330\n",
      "IMG_6754.JPG\n",
      "437 316\n",
      "550 317\n",
      "IMG_6757.JPG\n",
      "454 308\n",
      "572 304\n",
      "IMG_6760.JPG\n",
      "440 287\n",
      "575 284\n",
      "IMG_6763.JPG\n",
      "458 282\n",
      "568 284\n",
      "IMG_6766.JPG\n",
      "453 296\n",
      "568 295\n",
      "IMG_6769.JPG\n",
      "435 291\n",
      "549 285\n",
      "IMG_6772.JPG\n",
      "455 283\n",
      "552 278\n",
      "IMG_6775.JPG\n",
      "448 283\n",
      "565 277\n",
      "IMG_6778.JPG\n",
      "464 317\n",
      "573 324\n",
      "IMG_6781.JPG\n",
      "447 322\n",
      "555 320\n",
      "IMG_6784.JPG\n",
      "445 281\n",
      "569 288\n",
      "IMG_6787.JPG\n",
      "458 299\n",
      "569 300\n",
      "IMG_6790.JPG\n",
      "453 288\n",
      "556 284\n",
      "IMG_6793.JPG\n",
      "464 285\n",
      "565 279\n",
      "save scv file...\n"
     ]
    }
   ],
   "source": [
    "winName = \"imgs\"\n",
    "kernel = np.ones([10,10])\n",
    "df = pd.DataFrame(columns=['paths','fileName','Left X','Left Y','Right X','Right Y'])\n",
    "for i in range(len(frontPaths)):\n",
    "    esc = False\n",
    "    img = cv2.imread(frontPaths[i])\n",
    "    print(frontPaths[i].split(\"\\\\\")[-1])\n",
    "    cv2.namedWindow(winName)\n",
    "    # resize img form (5184 * 3456)  --> to (518 * 345)\n",
    "    resizedImg = cv2.resize(img,(518*2,345*2))\n",
    "    cv2.setMouseCallback(winName,frontMouseParams)\n",
    "    \n",
    "    \n",
    "    cv2.imshow(winName,resizedImg)\n",
    "    while(1):\n",
    "        key = cv2.waitKey()\n",
    "        \n",
    "        # when ESC Pressed\n",
    "        if key ==27:\n",
    "            cv2.destroyAllWindows()\n",
    "            esc = True\n",
    "            break\n",
    "        elif key == 32:\n",
    "            #df.loc[i,'paths'] = frontPaths[i]\n",
    "            df.loc[i,'paths'] = i\n",
    "            df.loc[i,'fileName'] = frontPaths[i].split(\"\\\\\")[-1]\n",
    "            df.loc[i,'Left X'] = lx\n",
    "            df.loc[i,'Left Y'] = ly\n",
    "            df.loc[i,'Right X'] = rx\n",
    "            df.loc[i,'Right Y'] = ry\n",
    "            cv2.destroyAllWindows()\n",
    "            break\n",
    "    #         grayImg = cv2.cvtColor(resizedImg,cv2.COLOR_RGB2GRAY)\n",
    "    #         dilImg = cv2.dilate(grayImg, kernel)\n",
    "    #         eroImg = cv2.erode(dilImg, kernel)\n",
    "    #         ret, otsuImg = cv2.threshold(eroImg, 70, 255, cv2.THRESH_BINARY)\n",
    "    #         cv2.imshow(\"closing img\",otsuImg)\n",
    "    \n",
    "        else :\n",
    "            continue\n",
    "    if esc == True:\n",
    "        break        \n",
    "# print(df)\n",
    "print(\"save scv file...\")\n",
    "#df.to_csv('.\\\\frontEyeLoc.csv',sep=',')"
   ]
  },
  {
   "cell_type": "code",
   "execution_count": null,
   "metadata": {},
   "outputs": [],
   "source": []
  },
  {
   "cell_type": "code",
   "execution_count": null,
   "metadata": {},
   "outputs": [],
   "source": []
  },
  {
   "cell_type": "markdown",
   "metadata": {},
   "source": [
    "# mask"
   ]
  },
  {
   "cell_type": "code",
   "execution_count": null,
   "metadata": {},
   "outputs": [],
   "source": [
    "img = cv2.imread(frontPaths[3])\n",
    "img0 = img[:,:,::-1]\n",
    "kernel = np.ones([10,10])\n",
    "\n",
    "resizedImg = cv2.resize(img0,(518*2,345*2))\n",
    "plt.figure(figsize=(30,10))\n",
    "plt.subplot(241)\n",
    "plt.imshow(resizedImg)\n",
    "\n",
    "img1 = cv2.cvtColor(resizedImg,cv2.COLOR_RGB2GRAY)\n",
    "plt.subplot(242)\n",
    "plt.imshow(img1,cmap=\"gray\")\n",
    "\n",
    "img2 = cv2.dilate(img1, kernel)\n",
    "plt.subplot(243)\n",
    "plt.imshow(img2,cmap=\"gray\")\n",
    "\n",
    "img3 = cv2.erode(img2, kernel)\n",
    "plt.subplot(244)\n",
    "plt.imshow(img3,cmap=\"gray\")\n",
    "\n",
    "ret, img4 = cv2.threshold(img3, 70, 255, cv2.THRESH_BINARY)\n",
    "plt.subplot(245)\n",
    "plt.imshow(img4,cmap=\"gray\")"
   ]
  },
  {
   "cell_type": "code",
   "execution_count": 78,
   "metadata": {},
   "outputs": [
    {
     "data": {
      "text/plain": [
       "1036"
      ]
     },
     "execution_count": 78,
     "metadata": {},
     "output_type": "execute_result"
    }
   ],
   "source": [
    "len(img4[1])"
   ]
  },
  {
   "cell_type": "code",
   "execution_count": 64,
   "metadata": {},
   "outputs": [
    {
     "data": {
      "text/plain": [
       "<matplotlib.image.AxesImage at 0x20a43ce87b8>"
      ]
     },
     "execution_count": 64,
     "metadata": {},
     "output_type": "execute_result"
    },
    {
     "data": {
      "image/png": "[encoded data removed]",
      "text/plain": [
       "<Figure size 432x288 with 1 Axes>"
      ]
     },
     "metadata": {
      "needs_background": "light"
     },
     "output_type": "display_data"
    }
   ],
   "source": [
    "part = img4[200:300,400:600]\n",
    "plt.imshow(part,cmap='gray')"
   ]
  },
  {
   "cell_type": "code",
   "execution_count": null,
   "metadata": {},
   "outputs": [],
   "source": [
    "winName = \"imgs\"\n",
    "kernel = np.ones([10,10])\n",
    "df = pd.DataFrame(columns=['paths','fileName','Left X','Left Y','Right X','Right Y'])\n",
    "for i in range(frontPaths):\n",
    "    esc = False\n",
    "    img = cv2.imread(frontPaths[i])\n",
    "    cv2.namedWindow(winName)\n",
    "    # resize img form (5184 * 3456)  --> to (518 * 345)\n",
    "    resizedImg = cv2.resize(img,(518*2,345*2))\n",
    "    cv2.setMouseCallback(winName,frontMouseParams)\n",
    "    \n",
    "    \n",
    "    cv2.imshow(winName,resizedImg)\n",
    "    while(1):\n",
    "        key = cv2.waitKey()\n",
    "        if esc == True:\n",
    "            break\n",
    "            \n",
    "        # when ESC Pressed\n",
    "        if key ==27:\n",
    "            cv2.destroyAllWindows()\n",
    "            esc = True\n",
    "            break\n",
    "        elif key == 32:\n",
    "            grayImg = cv2.cvtColor(resizedImg,cv2.COLOR_RGB2GRAY)\n",
    "            dilImg = cv2.dilate(grayImg, kernel)\n",
    "            eroImg = cv2.erode(dilImg, kernel)\n",
    "            ret, otsuImg = cv2.threshold(eroImg, 70, 255, cv2.THRESH_BINARY)\n",
    "            cv2.imshow(\"closing img\",otsuImg)\n",
    "            cv2.destroyAllWindows()\n",
    "            break\n",
    "\n",
    "    \n",
    "        else :\n",
    "            continue\n",
    "            \n",
    "print(df)"
   ]
  }
 ],
 "metadata": {
  "kernelspec": {
   "display_name": "Python 3",
   "language": "python",
   "name": "python3"
  },
  "language_info": {
   "codemirror_mode": {
    "name": "ipython",
    "version": 3
   },
   "file_extension": ".py",
   "mimetype": "text/x-python",
   "name": "python",
   "nbconvert_exporter": "python",
   "pygments_lexer": "ipython3",
   "version": "3.6.9"
  }
 },
 "nbformat": 4,
 "nbformat_minor": 4
}
