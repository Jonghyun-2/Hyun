{
 "cells": [
  {
   "cell_type": "code",
   "execution_count": 1,
   "metadata": {},
   "outputs": [],
   "source": [
    "import cv2\n",
    "import matplotlib.pyplot as plt\n",
    "import numpy\n",
    "import glob\n",
    "import numpy as np\n",
    "import pandas as pd"
   ]
  },
  {
   "cell_type": "code",
   "execution_count": 2,
   "metadata": {},
   "outputs": [
    {
     "data": {
      "text/plain": [
       "['D:\\\\Dataset\\\\De_id_sample_data\\\\Sample_data2\\\\front',\n",
       " 'D:\\\\Dataset\\\\De_id_sample_data\\\\Sample_data2\\\\side',\n",
       " 'D:\\\\Dataset\\\\De_id_sample_data\\\\Sample_data2\\\\smile']"
      ]
     },
     "execution_count": 2,
     "metadata": {},
     "output_type": "execute_result"
    }
   ],
   "source": [
    "eyePaths = glob.glob(\"D:\\Dataset\\De_id_sample_data\\Sample_data2\\*\",recursive=True)\n",
    "eyePaths"
   ]
  },
  {
   "cell_type": "code",
   "execution_count": 58,
   "metadata": {},
   "outputs": [],
   "source": [
    "#original img size (5184 * 3456)\n",
    "\n",
    "frontPaths = glob.glob(eyePaths[0] + \"\\*.jpg\")\n",
    "sidePaths = glob.glob(eyePaths[1] + \"\\*.jpg\")\n",
    "smilePaths = glob.glob(eyePaths[2] + \"\\*.jpg\")"
   ]
  },
  {
   "cell_type": "code",
   "execution_count": 60,
   "metadata": {},
   "outputs": [],
   "source": [
    "def frontMouseParams(event, x,y, flag, params):\n",
    "    global lx,ly,rx,ry\n",
    "    if event ==cv2.EVENT_LBUTTONUP:\n",
    "        lx = x\n",
    "        ly = y \n",
    "        print(lx,ly)\n",
    "    if event == cv2.EVENT_RBUTTONUP:\n",
    "        rx = x\n",
    "        ry = y\n",
    "        print(rx,ry)"
   ]
  },
  {
   "cell_type": "code",
   "execution_count": 61,
   "metadata": {},
   "outputs": [
    {
     "name": "stdout",
     "output_type": "stream",
     "text": [
      "IMG_6683.JPG\n",
      "442 319\n",
      "553 319\n",
      "IMG_6686.JPG\n",
      "449 294\n",
      "574 293\n",
      "IMG_6689.JPG\n",
      "447 307\n",
      "557 307\n",
      "IMG_6692.JPG\n",
      "435 282\n",
      "548 281\n",
      "IMG_6695.JPG\n",
      "450 298\n",
      "561 304\n",
      "IMG_6698.JPG\n",
      "445 309\n",
      "562 306\n",
      "IMG_6701.JPG\n",
      "447 282\n",
      "558 279\n",
      "IMG_6704.JPG\n",
      "465 294\n",
      "565 297\n",
      "IMG_6707.JPG\n",
      "458 281\n",
      "565 284\n",
      "IMG_6710.JPG\n",
      "452 291\n",
      "561 295\n",
      "IMG_6713.JPG\n",
      "456 297\n",
      "568 295\n",
      "IMG_6716.JPG\n",
      "443 290\n",
      "561 289\n",
      "IMG_6719.JPG\n",
      "IMG_6722.JPG\n",
      "466 277\n",
      "561 280\n",
      "IMG_6725.JPG\n",
      "458 289\n",
      "562 289\n",
      "IMG_6728.JPG\n",
      "452 376\n",
      "564 378\n",
      "IMG_6731.JPG\n",
      "453 312\n",
      "568 308\n",
      "IMG_6734.JPG\n",
      "451 322\n",
      "566 323\n",
      "IMG_6737.JPG\n",
      "460 320\n",
      "565 323\n",
      "IMG_6740.JPG\n",
      "447 329\n",
      "554 323\n",
      "IMG_6743.JPG\n",
      "448 304\n",
      "567 315\n",
      "IMG_6746.JPG\n",
      "441 322\n",
      "562 325\n",
      "IMG_6749.JPG\n",
      "452 310\n",
      "563 311\n",
      "IMG_6752.JPG\n",
      "426 326\n",
      "555 316\n",
      "IMG_6755.JPG\n",
      "445 311\n",
      "559 314\n",
      "IMG_6758.JPG\n",
      "447 303\n",
      "561 302\n",
      "IMG_6761.JPG\n",
      "439 278\n",
      "567 275\n",
      "IMG_6764.JPG\n",
      "450 298\n",
      "567 297\n",
      "IMG_6767.JPG\n",
      "453 296\n",
      "572 298\n",
      "IMG_6770.JPG\n",
      "456 287\n",
      "570 282\n",
      "IMG_6774.JPG\n",
      "458 272\n",
      "563 269\n",
      "IMG_6776.JPG\n",
      "446 285\n",
      "561 279\n",
      "IMG_6779.JPG\n",
      "463 317\n",
      "569 325\n",
      "IMG_6782.JPG\n",
      "456 330\n",
      "566 332\n",
      "IMG_6785.JPG\n",
      "453 282\n",
      "584 288\n",
      "IMG_6788.JPG\n",
      "450 294\n",
      "562 296\n",
      "IMG_6791.JPG\n",
      "462 281\n",
      "564 281\n",
      "IMG_6794.JPG\n",
      "449 286\n",
      "550 281\n",
      "save scv file...\n"
     ]
    }
   ],
   "source": [
    "winName = \"imgs\"\n",
    "kernel = np.ones([10,10])\n",
    "df = pd.DataFrame(columns=['idx','paths','fileName','Left X','Left Y','Right X','Right Y'])\n",
    "for i in range(len(smilePaths)):\n",
    "    esc = False\n",
    "    img = cv2.imread(smilePaths[i])\n",
    "    print(smilePaths[i].split(\"\\\\\")[-1])\n",
    "    cv2.namedWindow(winName)\n",
    "    # resize img form (5184 * 3456)  --> to (518 * 345)\n",
    "    resizedImg = cv2.resize(img,(518*2,345*2))\n",
    "    cv2.setMouseCallback(winName,frontMouseParams)\n",
    "    \n",
    "    \n",
    "    cv2.imshow(winName,resizedImg)\n",
    "    while(1):\n",
    "        key = cv2.waitKey()\n",
    "        \n",
    "        # when ESC Pressed\n",
    "        if key ==27:\n",
    "            cv2.destroyAllWindows()\n",
    "            esc = True\n",
    "            break\n",
    "        elif key == 32:\n",
    "            #df.loc[i,'paths'] = frontPaths[i]\n",
    "            df.loc[i,'paths'] = i\n",
    "            df.loc[i,'fileName'] = smilePaths[i].split(\"\\\\\")[-1]\n",
    "            df.loc[i,'Left X'] = lx\n",
    "            df.loc[i,'Left Y'] = ly\n",
    "            df.loc[i,'Right X'] = rx\n",
    "            df.loc[i,'Right Y'] = ry\n",
    "            cv2.destroyAllWindows()\n",
    "            break\n",
    "    #         grayImg = cv2.cvtColor(resizedImg,cv2.COLOR_RGB2GRAY)\n",
    "    #         dilImg = cv2.dilate(grayImg, kernel)\n",
    "    #         eroImg = cv2.erode(dilImg, kernel)\n",
    "    #         ret, otsuImg = cv2.threshold(eroImg, 70, 255, cv2.THRESH_BINARY)\n",
    "    #         cv2.imshow(\"closing img\",otsuImg)\n",
    "    \n",
    "        else :\n",
    "            continue\n",
    "    if esc == True:\n",
    "        break        \n",
    "# print(df)\n",
    "print(\"save scv file...\")\n",
    "df.to_csv('.\\\\smileEyeLoc.csv',sep=',')"
   ]
  },
  {
   "cell_type": "code",
   "execution_count": 12,
   "metadata": {},
   "outputs": [
    {
     "data": {
      "text/html": [
       "<div>\n",
       "<style scoped>\n",
       "    .dataframe tbody tr th:only-of-type {\n",
       "        vertical-align: middle;\n",
       "    }\n",
       "\n",
       "    .dataframe tbody tr th {\n",
       "        vertical-align: top;\n",
       "    }\n",
       "\n",
       "    .dataframe thead th {\n",
       "        text-align: right;\n",
       "    }\n",
       "</style>\n",
       "<table border=\"1\" class=\"dataframe\">\n",
       "  <thead>\n",
       "    <tr style=\"text-align: right;\">\n",
       "      <th></th>\n",
       "      <th>Unnamed: 0</th>\n",
       "      <th>paths</th>\n",
       "      <th>fileName</th>\n",
       "      <th>Left X</th>\n",
       "      <th>Left Y</th>\n",
       "      <th>Right X</th>\n",
       "      <th>Right Y</th>\n",
       "    </tr>\n",
       "  </thead>\n",
       "  <tbody>\n",
       "    <tr>\n",
       "      <th>0</th>\n",
       "      <td>0</td>\n",
       "      <td>0</td>\n",
       "      <td>IMG_6682.JPG</td>\n",
       "      <td>447</td>\n",
       "      <td>302</td>\n",
       "      <td>555</td>\n",
       "      <td>302</td>\n",
       "    </tr>\n",
       "    <tr>\n",
       "      <th>1</th>\n",
       "      <td>1</td>\n",
       "      <td>1</td>\n",
       "      <td>IMG_6685.JPG</td>\n",
       "      <td>451</td>\n",
       "      <td>292</td>\n",
       "      <td>574</td>\n",
       "      <td>289</td>\n",
       "    </tr>\n",
       "    <tr>\n",
       "      <th>2</th>\n",
       "      <td>2</td>\n",
       "      <td>2</td>\n",
       "      <td>IMG_6688.JPG</td>\n",
       "      <td>452</td>\n",
       "      <td>301</td>\n",
       "      <td>560</td>\n",
       "      <td>301</td>\n",
       "    </tr>\n",
       "    <tr>\n",
       "      <th>3</th>\n",
       "      <td>3</td>\n",
       "      <td>3</td>\n",
       "      <td>IMG_6691.JPG</td>\n",
       "      <td>442</td>\n",
       "      <td>273</td>\n",
       "      <td>550</td>\n",
       "      <td>274</td>\n",
       "    </tr>\n",
       "    <tr>\n",
       "      <th>4</th>\n",
       "      <td>4</td>\n",
       "      <td>4</td>\n",
       "      <td>IMG_6694.JPG</td>\n",
       "      <td>445</td>\n",
       "      <td>285</td>\n",
       "      <td>556</td>\n",
       "      <td>285</td>\n",
       "    </tr>\n",
       "  </tbody>\n",
       "</table>\n",
       "</div>"
      ],
      "text/plain": [
       "   Unnamed: 0  paths      fileName  Left X  Left Y  Right X  Right Y\n",
       "0           0      0  IMG_6682.JPG     447     302      555      302\n",
       "1           1      1  IMG_6685.JPG     451     292      574      289\n",
       "2           2      2  IMG_6688.JPG     452     301      560      301\n",
       "3           3      3  IMG_6691.JPG     442     273      550      274\n",
       "4           4      4  IMG_6694.JPG     445     285      556      285"
      ]
     },
     "execution_count": 12,
     "metadata": {},
     "output_type": "execute_result"
    }
   ],
   "source": [
    "# Data augmentation\n",
    "label = glob.glob(\"*.csv\")\n",
    "oriData = pd.read_csv(label[0])\n",
    "oriData.head()"
   ]
  },
  {
   "cell_type": "code",
   "execution_count": 44,
   "metadata": {},
   "outputs": [],
   "source": [
    "revData = pd.DataFrame(columns=['idx','paths','fileName','Left X','Left Y','Right X','Right Y'])\n",
    "revData[\"Left X\"] = oriData[\"Right X\"]\n",
    "revData[\"Left Y\"] = oriData[\"Right Y\"]\n",
    "revData[\"Right X\"] = oriData[\"Left X\"]\n",
    "revData[\"Right Y\"] = oriData[\"Left Y\"]"
   ]
  },
  {
   "cell_type": "code",
   "execution_count": 45,
   "metadata": {},
   "outputs": [],
   "source": [
    "revPathList=[]\n",
    "for path in oriData[\"fileName\"] : \n",
    "    revPath = path + \"_R\"\n",
    "    revPathList.append(revPath)"
   ]
  },
  {
   "cell_type": "code",
   "execution_count": 46,
   "metadata": {},
   "outputs": [],
   "source": [
    "revData['fileName'] = revPathList"
   ]
  },
  {
   "cell_type": "code",
   "execution_count": 56,
   "metadata": {},
   "outputs": [
    {
     "name": "stderr",
     "output_type": "stream",
     "text": [
      "C:\\Users\\mmmil\\AppData\\Local\\Continuum\\miniconda3\\envs\\keras\\lib\\site-packages\\ipykernel_launcher.py:2: FutureWarning: Sorting because non-concatenation axis is not aligned. A future version\n",
      "of pandas will change to not sort by default.\n",
      "\n",
      "To accept the future behavior, pass 'sort=False'.\n",
      "\n",
      "To retain the current behavior and silence the warning, pass 'sort=True'.\n",
      "\n",
      "  \n"
     ]
    }
   ],
   "source": [
    "objs = [oriData,revData]\n",
    "fullSet = pd.concat(objs,ignore_index=True)"
   ]
  },
  {
   "cell_type": "code",
   "execution_count": 55,
   "metadata": {},
   "outputs": [
    {
     "data": {
      "text/html": [
       "<div>\n",
       "<style scoped>\n",
       "    .dataframe tbody tr th:only-of-type {\n",
       "        vertical-align: middle;\n",
       "    }\n",
       "\n",
       "    .dataframe tbody tr th {\n",
       "        vertical-align: top;\n",
       "    }\n",
       "\n",
       "    .dataframe thead th {\n",
       "        text-align: right;\n",
       "    }\n",
       "</style>\n",
       "<table border=\"1\" class=\"dataframe\">\n",
       "  <thead>\n",
       "    <tr style=\"text-align: right;\">\n",
       "      <th></th>\n",
       "      <th>Left X</th>\n",
       "      <th>Left Y</th>\n",
       "      <th>Right X</th>\n",
       "      <th>Right Y</th>\n",
       "      <th>Unnamed: 0</th>\n",
       "      <th>fileName</th>\n",
       "      <th>idx</th>\n",
       "      <th>paths</th>\n",
       "    </tr>\n",
       "  </thead>\n",
       "  <tbody>\n",
       "    <tr>\n",
       "      <th>0</th>\n",
       "      <td>447</td>\n",
       "      <td>302</td>\n",
       "      <td>555</td>\n",
       "      <td>302</td>\n",
       "      <td>0.0</td>\n",
       "      <td>IMG_6682.JPG</td>\n",
       "      <td>NaN</td>\n",
       "      <td>0</td>\n",
       "    </tr>\n",
       "    <tr>\n",
       "      <th>1</th>\n",
       "      <td>451</td>\n",
       "      <td>292</td>\n",
       "      <td>574</td>\n",
       "      <td>289</td>\n",
       "      <td>1.0</td>\n",
       "      <td>IMG_6685.JPG</td>\n",
       "      <td>NaN</td>\n",
       "      <td>1</td>\n",
       "    </tr>\n",
       "    <tr>\n",
       "      <th>2</th>\n",
       "      <td>452</td>\n",
       "      <td>301</td>\n",
       "      <td>560</td>\n",
       "      <td>301</td>\n",
       "      <td>2.0</td>\n",
       "      <td>IMG_6688.JPG</td>\n",
       "      <td>NaN</td>\n",
       "      <td>2</td>\n",
       "    </tr>\n",
       "    <tr>\n",
       "      <th>3</th>\n",
       "      <td>442</td>\n",
       "      <td>273</td>\n",
       "      <td>550</td>\n",
       "      <td>274</td>\n",
       "      <td>3.0</td>\n",
       "      <td>IMG_6691.JPG</td>\n",
       "      <td>NaN</td>\n",
       "      <td>3</td>\n",
       "    </tr>\n",
       "    <tr>\n",
       "      <th>4</th>\n",
       "      <td>445</td>\n",
       "      <td>285</td>\n",
       "      <td>556</td>\n",
       "      <td>285</td>\n",
       "      <td>4.0</td>\n",
       "      <td>IMG_6694.JPG</td>\n",
       "      <td>NaN</td>\n",
       "      <td>4</td>\n",
       "    </tr>\n",
       "  </tbody>\n",
       "</table>\n",
       "</div>"
      ],
      "text/plain": [
       "   Left X  Left Y  Right X  Right Y  Unnamed: 0      fileName  idx paths\n",
       "0     447     302      555      302         0.0  IMG_6682.JPG  NaN     0\n",
       "1     451     292      574      289         1.0  IMG_6685.JPG  NaN     1\n",
       "2     452     301      560      301         2.0  IMG_6688.JPG  NaN     2\n",
       "3     442     273      550      274         3.0  IMG_6691.JPG  NaN     3\n",
       "4     445     285      556      285         4.0  IMG_6694.JPG  NaN     4"
      ]
     },
     "execution_count": 55,
     "metadata": {},
     "output_type": "execute_result"
    }
   ],
   "source": [
    "fullSet.head()"
   ]
  },
  {
   "cell_type": "code",
   "execution_count": null,
   "metadata": {},
   "outputs": [],
   "source": []
  },
  {
   "cell_type": "code",
   "execution_count": null,
   "metadata": {},
   "outputs": [],
   "source": []
  },
  {
   "cell_type": "markdown",
   "metadata": {},
   "source": [
    "# mask"
   ]
  },
  {
   "cell_type": "code",
   "execution_count": null,
   "metadata": {},
   "outputs": [],
   "source": [
    "img = cv2.imread(frontPaths[3])\n",
    "img0 = img[:,:,::-1]\n",
    "kernel = np.ones([10,10])\n",
    "\n",
    "resizedImg = cv2.resize(img0,(518*2,345*2))\n",
    "plt.figure(figsize=(30,10))\n",
    "plt.subplot(241)\n",
    "plt.imshow(resizedImg)\n",
    "\n",
    "img1 = cv2.cvtColor(resizedImg,cv2.COLOR_RGB2GRAY)\n",
    "plt.subplot(242)\n",
    "plt.imshow(img1,cmap=\"gray\")\n",
    "\n",
    "img2 = cv2.dilate(img1, kernel)\n",
    "plt.subplot(243)\n",
    "plt.imshow(img2,cmap=\"gray\")\n",
    "\n",
    "img3 = cv2.erode(img2, kernel)\n",
    "plt.subplot(244)\n",
    "plt.imshow(img3,cmap=\"gray\")\n",
    "\n",
    "ret, img4 = cv2.threshold(img3, 70, 255, cv2.THRESH_BINARY)\n",
    "plt.subplot(245)\n",
    "plt.imshow(img4,cmap=\"gray\")"
   ]
  },
  {
   "cell_type": "code",
   "execution_count": 78,
   "metadata": {},
   "outputs": [
    {
     "data": {
      "text/plain": [
       "1036"
      ]
     },
     "execution_count": 78,
     "metadata": {},
     "output_type": "execute_result"
    }
   ],
   "source": [
    "len(img4[1])"
   ]
  },
  {
   "cell_type": "code",
   "execution_count": 64,
   "metadata": {},
   "outputs": [
    {
     "data": {
      "text/plain": [
       "<matplotlib.image.AxesImage at 0x20a43ce87b8>"
      ]
     },
     "execution_count": 64,
     "metadata": {},
     "output_type": "execute_result"
    },
    {
     "data": {
      "image/png": "[encoded data removed]",
      "text/plain": [
       "<Figure size 432x288 with 1 Axes>"
      ]
     },
     "metadata": {
      "needs_background": "light"
     },
     "output_type": "display_data"
    }
   ],
   "source": [
    "part = img4[200:300,400:600]\n",
    "plt.imshow(part,cmap='gray')"
   ]
  },
  {
   "cell_type": "code",
   "execution_count": null,
   "metadata": {},
   "outputs": [],
   "source": [
    "winName = \"imgs\"\n",
    "kernel = np.ones([10,10])\n",
    "df = pd.DataFrame(columns=['paths','fileName','Left X','Left Y','Right X','Right Y'])\n",
    "for i in range(frontPaths):\n",
    "    esc = False\n",
    "    img = cv2.imread(frontPaths[i])\n",
    "    cv2.namedWindow(winName)\n",
    "    # resize img form (5184 * 3456)  --> to (518 * 345)\n",
    "    resizedImg = cv2.resize(img,(518*2,345*2))\n",
    "    cv2.setMouseCallback(winName,frontMouseParams)\n",
    "    \n",
    "    \n",
    "    cv2.imshow(winName,resizedImg)\n",
    "    while(1):\n",
    "        key = cv2.waitKey()\n",
    "        if esc == True:\n",
    "            break\n",
    "            \n",
    "        # when ESC Pressed\n",
    "        if key ==27:\n",
    "            cv2.destroyAllWindows()\n",
    "            esc = True\n",
    "            break\n",
    "        elif key == 32:\n",
    "            grayImg = cv2.cvtColor(resizedImg,cv2.COLOR_RGB2GRAY)\n",
    "            dilImg = cv2.dilate(grayImg, kernel)\n",
    "            eroImg = cv2.erode(dilImg, kernel)\n",
    "            ret, otsuImg = cv2.threshold(eroImg, 70, 255, cv2.THRESH_BINARY)\n",
    "            cv2.imshow(\"closing img\",otsuImg)\n",
    "            cv2.destroyAllWindows()\n",
    "            break\n",
    "\n",
    "    \n",
    "        else :\n",
    "            continue\n",
    "            \n",
    "print(df)"
   ]
  }
 ],
 "metadata": {
  "kernelspec": {
   "display_name": "Python 3",
   "language": "python",
   "name": "python3"
  },
  "language_info": {
   "codemirror_mode": {
    "name": "ipython",
    "version": 3
   },
   "file_extension": ".py",
   "mimetype": "text/x-python",
   "name": "python",
   "nbconvert_exporter": "python",
   "pygments_lexer": "ipython3",
   "version": "3.6.9"
  }
 },
 "nbformat": 4,
 "nbformat_minor": 4
}
