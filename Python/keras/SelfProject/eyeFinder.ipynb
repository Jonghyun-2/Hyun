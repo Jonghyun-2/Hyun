{
 "cells": [
  {
   "cell_type": "code",
   "execution_count": 61,
   "metadata": {},
   "outputs": [],
   "source": [
    "import glob\n",
    "import cv2\n",
    "import tensorflow as tf\n",
    "import tensorflow.keras as keras\n",
    "import numpy as np\n",
    "import matplotlib.pyplot as plt\n",
    "import pandas as pd"
   ]
  },
  {
   "cell_type": "code",
   "execution_count": 49,
   "metadata": {},
   "outputs": [],
   "source": [
    "frontPath = glob.glob(\"D:\\\\Dataset\\\\De_id_sample_data\\\\Sample_data2\\\\front\\\\*.jpg\")\n",
    "smilePath = glob.glob(\"D:\\\\Dataset\\\\De_id_sample_data\\\\Sample_data2\\\\smile\\\\*.jpg\")\n",
    "fullPath = frontPath + smilePath"
   ]
  },
  {
   "cell_type": "code",
   "execution_count": 20,
   "metadata": {},
   "outputs": [],
   "source": [
    "# # img size = (518*2,345*2)\n",
    "# imgSize = (518*2,345*2)\n",
    "# a =cv2.imread(frontPath[0])\n",
    "# a= cv2.resize(a,imgSize)\n",
    "# cv2.imshow(\"a\",a)\n",
    "# cv2.waitKey()\n",
    "# cv2.destroyAllWindows()"
   ]
  },
  {
   "cell_type": "code",
   "execution_count": 48,
   "metadata": {},
   "outputs": [],
   "source": [
    "def generalization(img):\n",
    "    imgSize = (518*2,345*2)\n",
    "    img = cv2.resize(img, imgSize)\n",
    "    img = img/255.0\n",
    "    img = np.expand_dims(img,axis=0)\n",
    "    return img"
   ]
  },
  {
   "cell_type": "code",
   "execution_count": 53,
   "metadata": {
    "collapsed": true,
    "jupyter": {
     "outputs_hidden": true
    }
   },
   "outputs": [
    {
     "name": "stdout",
     "output_type": "stream",
     "text": [
      "0\n",
      "1\n",
      "2\n",
      "3\n",
      "4\n",
      "5\n",
      "6\n",
      "7\n",
      "8\n",
      "9\n",
      "10\n",
      "11\n",
      "12\n",
      "13\n",
      "14\n",
      "15\n",
      "16\n",
      "17\n",
      "18\n",
      "19\n",
      "20\n",
      "21\n",
      "22\n",
      "23\n",
      "24\n",
      "25\n",
      "26\n",
      "27\n",
      "28\n",
      "29\n",
      "30\n",
      "31\n",
      "32\n",
      "33\n",
      "34\n",
      "35\n",
      "36\n",
      "37\n",
      "38\n",
      "39\n",
      "40\n",
      "41\n",
      "42\n",
      "43\n",
      "44\n",
      "45\n",
      "46\n",
      "47\n",
      "48\n",
      "49\n",
      "50\n",
      "51\n",
      "52\n",
      "53\n",
      "54\n",
      "55\n",
      "56\n",
      "57\n",
      "58\n",
      "59\n",
      "60\n",
      "61\n",
      "62\n",
      "63\n",
      "64\n",
      "65\n",
      "66\n",
      "67\n",
      "68\n",
      "69\n",
      "70\n",
      "71\n",
      "72\n",
      "73\n",
      "74\n"
     ]
    }
   ],
   "source": [
    "for i in range(len(fullPath)):\n",
    "    print(i,end=\"\\t\")\n",
    "    img = cv2.imread(fullPath[i])\n",
    "    img = generalization(img)\n",
    "    if i == 0 :\n",
    "        imgSet = img\n",
    "    else:\n",
    "        imgSet = np.concatenate((imgSet,img),axis =0 )"
   ]
  },
  {
   "cell_type": "code",
   "execution_count": 54,
   "metadata": {},
   "outputs": [
    {
     "data": {
      "text/plain": [
       "(75, 690, 1036, 3)"
      ]
     },
     "execution_count": 54,
     "metadata": {},
     "output_type": "execute_result"
    }
   ],
   "source": [
    "imgSet.shape"
   ]
  },
  {
   "cell_type": "code",
   "execution_count": null,
   "metadata": {},
   "outputs": [],
   "source": []
  },
  {
   "cell_type": "code",
   "execution_count": null,
   "metadata": {},
   "outputs": [],
   "source": []
  },
  {
   "cell_type": "code",
   "execution_count": 108,
   "metadata": {},
   "outputs": [],
   "source": [
    "Loc = glob.glob(\"./*.csv\")\n",
    "frontLoc = pd.read_csv(Loc[0])\n",
    "smileLoc = pd.read_csv(Loc[1])\n"
   ]
  },
  {
   "cell_type": "code",
   "execution_count": 109,
   "metadata": {},
   "outputs": [],
   "source": [
    "objs = [frontLoc,smileLoc]\n",
    "fullLoc = pd.concat(objs,ignore_index=True)"
   ]
  },
  {
   "cell_type": "code",
   "execution_count": 110,
   "metadata": {},
   "outputs": [],
   "source": [
    "del fullLoc['Unnamed: 0']\n",
    "del fullLoc['paths']\n",
    "del fullLoc['fileName']"
   ]
  },
  {
   "cell_type": "code",
   "execution_count": 111,
   "metadata": {},
   "outputs": [
    {
     "name": "stdout",
     "output_type": "stream",
     "text": [
      "563.1066666666667\n",
      "300.1333333333333\n",
      "451.06666666666666\n",
      "299.93333333333334\n",
      "6.907835999659965\n",
      "21.01886754306218\n",
      "8.355825501996785\n",
      "20.1891952193148\n"
     ]
    }
   ],
   "source": [
    "print(fullLoc['Right X'].mean())\n",
    "print(fullLoc['Right Y'].mean())\n",
    "print(fullLoc['Left X'].mean())\n",
    "print(fullLoc['Left Y'].mean())\n",
    "\n",
    "print(fullLoc['Right X'].std())\n",
    "print(fullLoc['Right Y'].std())\n",
    "print(fullLoc['Left X'].std())\n",
    "print(fullLoc['Left Y'].std())"
   ]
  },
  {
   "cell_type": "code",
   "execution_count": 88,
   "metadata": {},
   "outputs": [],
   "source": [
    "def normalize(df):\n",
    "    df_mean=[]\n",
    "    df_std=[]\n",
    "    keys = df.keys()\n",
    "    for i in range(len(keys)):        \n",
    "        df_mean.append(df[keys[i]].mean())\n",
    "        df_std.append(df[keys[i]].std())\n",
    "        df[keys[i]] = df[keys[i]] - df[keys[i]].mean()\n",
    "        df[keys[i]] = df[keys[i]] / df[keys[i]].std()\n",
    "        \n",
    "    return df, df_mean, df_std"
   ]
  },
  {
   "cell_type": "code",
   "execution_count": 112,
   "metadata": {},
   "outputs": [],
   "source": [
    "normLoc = normalize(fullLoc)"
   ]
  },
  {
   "cell_type": "code",
   "execution_count": 115,
   "metadata": {},
   "outputs": [
    {
     "data": {
      "text/plain": [
       "[451.06666666666666, 299.93333333333334, 563.1066666666667, 300.1333333333333]"
      ]
     },
     "execution_count": 115,
     "metadata": {},
     "output_type": "execute_result"
    }
   ],
   "source": [
    "normLoc[1]"
   ]
  },
  {
   "cell_type": "code",
   "execution_count": 117,
   "metadata": {},
   "outputs": [
    {
     "data": {
      "text/plain": [
       "[8.355825501996785, 20.1891952193148, 6.907835999659965, 21.01886754306218]"
      ]
     },
     "execution_count": 117,
     "metadata": {},
     "output_type": "execute_result"
    }
   ],
   "source": [
    "normLoc[2]"
   ]
  },
  {
   "cell_type": "code",
   "execution_count": 118,
   "metadata": {
    "collapsed": true,
    "jupyter": {
     "outputs_hidden": true
    }
   },
   "outputs": [
    {
     "data": {
      "text/html": [
       "<div>\n",
       "<style scoped>\n",
       "    .dataframe tbody tr th:only-of-type {\n",
       "        vertical-align: middle;\n",
       "    }\n",
       "\n",
       "    .dataframe tbody tr th {\n",
       "        vertical-align: top;\n",
       "    }\n",
       "\n",
       "    .dataframe thead th {\n",
       "        text-align: right;\n",
       "    }\n",
       "</style>\n",
       "<table border=\"1\" class=\"dataframe\">\n",
       "  <thead>\n",
       "    <tr style=\"text-align: right;\">\n",
       "      <th></th>\n",
       "      <th>Left X</th>\n",
       "      <th>Left Y</th>\n",
       "      <th>Right X</th>\n",
       "      <th>Right Y</th>\n",
       "    </tr>\n",
       "  </thead>\n",
       "  <tbody>\n",
       "    <tr>\n",
       "      <th>0</th>\n",
       "      <td>-0.486686</td>\n",
       "      <td>0.102365</td>\n",
       "      <td>-1.173546</td>\n",
       "      <td>0.088809</td>\n",
       "    </tr>\n",
       "    <tr>\n",
       "      <th>1</th>\n",
       "      <td>-0.007978</td>\n",
       "      <td>-0.392949</td>\n",
       "      <td>1.576953</td>\n",
       "      <td>-0.529683</td>\n",
       "    </tr>\n",
       "    <tr>\n",
       "      <th>2</th>\n",
       "      <td>0.111699</td>\n",
       "      <td>0.052834</td>\n",
       "      <td>-0.449731</td>\n",
       "      <td>0.041233</td>\n",
       "    </tr>\n",
       "    <tr>\n",
       "      <th>3</th>\n",
       "      <td>-1.085071</td>\n",
       "      <td>-1.334047</td>\n",
       "      <td>-1.897362</td>\n",
       "      <td>-1.243327</td>\n",
       "    </tr>\n",
       "    <tr>\n",
       "      <th>4</th>\n",
       "      <td>-0.726040</td>\n",
       "      <td>-0.739670</td>\n",
       "      <td>-1.028783</td>\n",
       "      <td>-0.719988</td>\n",
       "    </tr>\n",
       "    <tr>\n",
       "      <th>...</th>\n",
       "      <td>...</td>\n",
       "      <td>...</td>\n",
       "      <td>...</td>\n",
       "      <td>...</td>\n",
       "    </tr>\n",
       "    <tr>\n",
       "      <th>70</th>\n",
       "      <td>0.590406</td>\n",
       "      <td>1.489245</td>\n",
       "      <td>0.418848</td>\n",
       "      <td>1.516098</td>\n",
       "    </tr>\n",
       "    <tr>\n",
       "      <th>71</th>\n",
       "      <td>0.231376</td>\n",
       "      <td>-0.888264</td>\n",
       "      <td>3.024584</td>\n",
       "      <td>-0.577259</td>\n",
       "    </tr>\n",
       "    <tr>\n",
       "      <th>72</th>\n",
       "      <td>-0.127655</td>\n",
       "      <td>-0.293887</td>\n",
       "      <td>-0.160205</td>\n",
       "      <td>-0.196649</td>\n",
       "    </tr>\n",
       "    <tr>\n",
       "      <th>73</th>\n",
       "      <td>1.308468</td>\n",
       "      <td>-0.937795</td>\n",
       "      <td>0.129322</td>\n",
       "      <td>-0.910293</td>\n",
       "    </tr>\n",
       "    <tr>\n",
       "      <th>74</th>\n",
       "      <td>-0.247332</td>\n",
       "      <td>-0.690138</td>\n",
       "      <td>-1.897362</td>\n",
       "      <td>-0.910293</td>\n",
       "    </tr>\n",
       "  </tbody>\n",
       "</table>\n",
       "<p>75 rows × 4 columns</p>\n",
       "</div>"
      ],
      "text/plain": [
       "      Left X    Left Y   Right X   Right Y\n",
       "0  -0.486686  0.102365 -1.173546  0.088809\n",
       "1  -0.007978 -0.392949  1.576953 -0.529683\n",
       "2   0.111699  0.052834 -0.449731  0.041233\n",
       "3  -1.085071 -1.334047 -1.897362 -1.243327\n",
       "4  -0.726040 -0.739670 -1.028783 -0.719988\n",
       "..       ...       ...       ...       ...\n",
       "70  0.590406  1.489245  0.418848  1.516098\n",
       "71  0.231376 -0.888264  3.024584 -0.577259\n",
       "72 -0.127655 -0.293887 -0.160205 -0.196649\n",
       "73  1.308468 -0.937795  0.129322 -0.910293\n",
       "74 -0.247332 -0.690138 -1.897362 -0.910293\n",
       "\n",
       "[75 rows x 4 columns]"
      ]
     },
     "execution_count": 118,
     "metadata": {},
     "output_type": "execute_result"
    }
   ],
   "source": [
    "normLoc[0]"
   ]
  },
  {
   "cell_type": "code",
   "execution_count": null,
   "metadata": {},
   "outputs": [],
   "source": []
  },
  {
   "cell_type": "code",
   "execution_count": null,
   "metadata": {},
   "outputs": [],
   "source": []
  },
  {
   "cell_type": "code",
   "execution_count": 119,
   "metadata": {},
   "outputs": [],
   "source": [
    "trainImg, testImg = imgSet[:70],imgSet[70:]"
   ]
  },
  {
   "cell_type": "code",
   "execution_count": 170,
   "metadata": {},
   "outputs": [],
   "source": [
    "dfTrainLabel, dfTestLabel = normLoc[0].loc[:69],normLoc[0].loc[70:]\n",
    "trainLabel = dfTrainLabel.to_numpy()\n",
    "testLabel = dfTestLabel.to_numpy()"
   ]
  },
  {
   "cell_type": "code",
   "execution_count": 137,
   "metadata": {},
   "outputs": [
    {
     "data": {
      "text/plain": [
       "(70, 690, 1036, 3)"
      ]
     },
     "execution_count": 137,
     "metadata": {},
     "output_type": "execute_result"
    }
   ],
   "source": [
    "trainImg.shape"
   ]
  },
  {
   "cell_type": "code",
   "execution_count": 142,
   "metadata": {},
   "outputs": [
    {
     "data": {
      "text/plain": [
       "(5, 690, 1036, 3)"
      ]
     },
     "execution_count": 142,
     "metadata": {},
     "output_type": "execute_result"
    }
   ],
   "source": [
    "testImg.shape"
   ]
  },
  {
   "cell_type": "code",
   "execution_count": 148,
   "metadata": {},
   "outputs": [
    {
     "data": {
      "text/plain": [
       "(70, 4)"
      ]
     },
     "execution_count": 148,
     "metadata": {},
     "output_type": "execute_result"
    }
   ],
   "source": [
    "trainLabel.shape"
   ]
  },
  {
   "cell_type": "code",
   "execution_count": 151,
   "metadata": {},
   "outputs": [
    {
     "data": {
      "text/plain": [
       "(5, 4)"
      ]
     },
     "execution_count": 151,
     "metadata": {},
     "output_type": "execute_result"
    }
   ],
   "source": [
    "testLabel.shape"
   ]
  },
  {
   "cell_type": "code",
   "execution_count": 172,
   "metadata": {},
   "outputs": [],
   "source": [
    "inputs = keras.Input(shape=(690,1036,3))\n",
    "conv1 = keras.layers.Conv2D(16,(3,3),activation='relu')(inputs)\n",
    "maxp1 = keras.layers.MaxPool2D((2,2))(conv1)\n",
    "conv2 = keras.layers.Conv2D(32,(3,3),activation='relu')(maxp1)\n",
    "maxp2 = keras.layers.MaxPool2D((2,2))(conv2)\n",
    "conv3 = keras.layers.Conv2D(64,(3,3),activation='relu')(maxp2)\n",
    "maxp3 = keras.layers.MaxPool2D((2,2))(conv3)\n",
    "conv4 = keras.layers.Conv2D(64,(3,3),activation='relu')(maxp3)\n",
    "maxp4 = keras.layers.MaxPool2D((2,2))(conv4)\n",
    "\n",
    "flat = keras.layers.Flatten()(maxp4)\n",
    "dense64 = keras.layers.Dense(64,activation = 'relu')(flat)\n",
    "dense32 = keras.layers.Dense(32,activation = 'relu')(dense64)\n",
    "outputs = keras.layers.Dense(4)(dense32)\n",
    "\n",
    "model= keras.Model(inputs=inputs,outputs= outputs)\n",
    "\n",
    "model.compile(loss = 'mae',metrics=['acc'],optimizer=\"rmsprop\")"
   ]
  },
  {
   "cell_type": "code",
   "execution_count": 174,
   "metadata": {},
   "outputs": [
    {
     "name": "stdout",
     "output_type": "stream",
     "text": [
      "Train on 70 samples, validate on 5 samples\n",
      "Epoch 1/20\n",
      "70/70 [==============================] - 2s 32ms/sample - loss: 0.3302 - acc: 0.6857 - val_loss: 0.4765 - val_acc: 0.8000\n",
      "Epoch 2/20\n",
      "70/70 [==============================] - 2s 32ms/sample - loss: 0.3008 - acc: 0.7571 - val_loss: 0.5333 - val_acc: 0.8000\n",
      "Epoch 3/20\n",
      "70/70 [==============================] - 2s 32ms/sample - loss: 0.3193 - acc: 0.7571 - val_loss: 0.5191 - val_acc: 0.8000\n",
      "Epoch 4/20\n",
      "70/70 [==============================] - 2s 32ms/sample - loss: 0.2687 - acc: 0.7571 - val_loss: 0.5420 - val_acc: 0.8000\n",
      "Epoch 5/20\n",
      "70/70 [==============================] - 2s 32ms/sample - loss: 0.2898 - acc: 0.7286 - val_loss: 0.5367 - val_acc: 0.8000\n",
      "Epoch 6/20\n",
      "70/70 [==============================] - 2s 32ms/sample - loss: 0.2641 - acc: 0.8000 - val_loss: 0.4618 - val_acc: 0.8000\n",
      "Epoch 7/20\n",
      "70/70 [==============================] - 2s 32ms/sample - loss: 0.2130 - acc: 0.7429 - val_loss: 0.4708 - val_acc: 0.8000\n",
      "Epoch 8/20\n",
      "70/70 [==============================] - 2s 32ms/sample - loss: 0.2295 - acc: 0.7857 - val_loss: 0.5789 - val_acc: 0.8000\n",
      "Epoch 9/20\n",
      "70/70 [==============================] - 2s 32ms/sample - loss: 0.2058 - acc: 0.7571 - val_loss: 0.4774 - val_acc: 0.8000\n",
      "Epoch 10/20\n",
      "70/70 [==============================] - 2s 32ms/sample - loss: 0.2072 - acc: 0.8286 - val_loss: 0.5597 - val_acc: 0.8000\n",
      "Epoch 11/20\n",
      "70/70 [==============================] - 2s 32ms/sample - loss: 0.1808 - acc: 0.8286 - val_loss: 0.4869 - val_acc: 0.8000\n",
      "Epoch 12/20\n",
      "70/70 [==============================] - 2s 32ms/sample - loss: 0.2139 - acc: 0.7714 - val_loss: 0.5692 - val_acc: 0.8000\n",
      "Epoch 13/20\n",
      "70/70 [==============================] - 2s 32ms/sample - loss: 0.2010 - acc: 0.7143 - val_loss: 0.4971 - val_acc: 0.8000\n",
      "Epoch 14/20\n",
      "70/70 [==============================] - 2s 32ms/sample - loss: 0.1777 - acc: 0.7429 - val_loss: 0.4778 - val_acc: 0.8000\n",
      "Epoch 15/20\n",
      "70/70 [==============================] - 2s 32ms/sample - loss: 0.1782 - acc: 0.7429 - val_loss: 0.5394 - val_acc: 0.8000\n",
      "Epoch 16/20\n",
      "70/70 [==============================] - 2s 32ms/sample - loss: 0.1929 - acc: 0.7571 - val_loss: 0.5609 - val_acc: 0.8000\n",
      "Epoch 17/20\n",
      "70/70 [==============================] - 2s 32ms/sample - loss: 0.1843 - acc: 0.8429 - val_loss: 0.4463 - val_acc: 0.8000\n",
      "Epoch 18/20\n",
      "70/70 [==============================] - 2s 32ms/sample - loss: 0.1644 - acc: 0.8143 - val_loss: 0.4836 - val_acc: 0.6000\n",
      "Epoch 19/20\n",
      "70/70 [==============================] - 2s 32ms/sample - loss: 0.1914 - acc: 0.8571 - val_loss: 0.5481 - val_acc: 0.8000\n",
      "Epoch 20/20\n",
      "70/70 [==============================] - 2s 32ms/sample - loss: 0.1655 - acc: 0.8143 - val_loss: 0.4863 - val_acc: 0.8000\n"
     ]
    }
   ],
   "source": [
    "hist = model.fit(trainImg,trainLabel,epochs=20,batch_size=2,validation_data=(testImg,testLabel))"
   ]
  },
  {
   "cell_type": "code",
   "execution_count": 194,
   "metadata": {},
   "outputs": [],
   "source": [
    "a = np.expand_dims(testImg[0],axis =0)\n",
    "b = model.predict(a)"
   ]
  },
  {
   "cell_type": "code",
   "execution_count": 195,
   "metadata": {},
   "outputs": [
    {
     "data": {
      "text/plain": [
       "array([[ 0.01264799,  1.1502572 , -0.22871496,  1.2674732 ]],\n",
       "      dtype=float32)"
      ]
     },
     "execution_count": 195,
     "metadata": {},
     "output_type": "execute_result"
    }
   ],
   "source": [
    "b"
   ]
  },
  {
   "cell_type": "code",
   "execution_count": null,
   "metadata": {},
   "outputs": [],
   "source": [
    "plt.imshow(testImg[0])\n",
    "# * std\n",
    "for i in range(len(normLoc[2])):\n",
    "    b[0][i] = b[0][i] * normLoc[2][i]\n",
    "# + mean\n",
    "for i in range(len(normLoc[1])):\n",
    "    b[0][i] = b[0][i] + normLoc[1][i]"
   ]
  },
  {
   "cell_type": "code",
   "execution_count": 208,
   "metadata": {},
   "outputs": [
    {
     "data": {
      "text/plain": [
       "array([451.17236, 323.1561 , 561.52673, 326.7742 ], dtype=float32)"
      ]
     },
     "execution_count": 208,
     "metadata": {},
     "output_type": "execute_result"
    }
   ],
   "source": [
    "b[0]"
   ]
  },
  {
   "cell_type": "code",
   "execution_count": 205,
   "metadata": {},
   "outputs": [],
   "source": [
    "# cv2.circle(testImg[0],(b[0][0],b[0][1]),2,(0,0,0),-1)\n",
    "cv2.imshow('a',testImg[0])\n",
    "cv2.waitKey()\n",
    "cv2.destroyAllWindows()"
   ]
  },
  {
   "cell_type": "code",
   "execution_count": 211,
   "metadata": {},
   "outputs": [],
   "source": [
    "test = testImg[0]\n",
    "cv2.circle(test,(b[0][2],b[0][3]),10,(255,0,0),-1)\n",
    "cv2.imshow('a',test)\n",
    "cv2.waitKey()\n",
    "cv2.destroyAllWindows()"
   ]
  },
  {
   "cell_type": "code",
   "execution_count": null,
   "metadata": {},
   "outputs": [],
   "source": []
  }
 ],
 "metadata": {
  "kernelspec": {
   "display_name": "Python 3",
   "language": "python",
   "name": "python3"
  },
  "language_info": {
   "codemirror_mode": {
    "name": "ipython",
    "version": 3
   },
   "file_extension": ".py",
   "mimetype": "text/x-python",
   "name": "python",
   "nbconvert_exporter": "python",
   "pygments_lexer": "ipython3",
   "version": "3.6.9"
  }
 },
 "nbformat": 4,
 "nbformat_minor": 4
}
