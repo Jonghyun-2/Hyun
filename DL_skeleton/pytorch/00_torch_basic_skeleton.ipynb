{
 "cells": [
  {
   "cell_type": "code",
   "execution_count": 79,
   "id": "5982476e-f035-402c-9acb-d92ba359ef0a",
   "metadata": {},
   "outputs": [
    {
     "name": "stdout",
     "output_type": "stream",
     "text": [
      "True\n",
      "1.11.0\n"
     ]
    }
   ],
   "source": [
    "import torch\n",
    "from torch.utils.data import Dataset\n",
    "from torchvision import datasets\n",
    "from torchvision.transforms import ToTensor\n",
    "import matplotlib.pyplot as plt\n",
    "import numpy as np\n",
    "import os \n",
    "\n",
    "print(torch.cuda.is_available())\n",
    "print(torch.__version__)\n",
    "\n",
    "# ref)https://pytorch.org/tutorials/beginner/basics/data_tutorial.html\n",
    "# ref)https://tutorials.pytorch.kr/beginner/pytorch_with_examples.html"
   ]
  },
  {
   "cell_type": "code",
   "execution_count": 80,
   "id": "8341f9a3-7112-423b-827b-088b4e897eba",
   "metadata": {
    "tags": []
   },
   "outputs": [],
   "source": [
    "# load dataset from torch.utils.data import Dataset\n",
    "\n",
    "training_data = datasets.FashionMNIST(root=\"~/dataset/MnistFashion\", train=True, download=True, transform=ToTensor())\n",
    "\n",
    "test_data = datasets.FashionMNIST(root=\"~/dataset/MnistFashion\", train=False, download=True, transform=ToTensor())"
   ]
  },
  {
   "cell_type": "code",
   "execution_count": 81,
   "id": "a8ace795-4a45-46c4-a5f0-48d1c3317ac9",
   "metadata": {},
   "outputs": [
    {
     "data": {
      "image/png": "[encoded data removed]",
      "text/plain": [
       "<Figure size 432x288 with 3 Axes>"
      ]
     },
     "metadata": {
      "needs_background": "light"
     },
     "output_type": "display_data"
    }
   ],
   "source": [
    "# visualize image\n",
    "\n",
    "labels_map = {0: \"T-Shirt\",1: \"Trouser\",2: \"Pullover\",3: \"Dress\",4: \"Coat\",5: \"Sandal\",6: \"Shirt\",7: \"Sneaker\",8: \"Bag\",9: \"Ankle Boot\",}\n",
    "i = 3\n",
    "\n",
    "for idx in range(i):\n",
    "    image, label = training_data[idx]\n",
    "    plt.subplot(1, i, idx + 1)\n",
    "    plt.title(labels_map[label])\n",
    "    plt.imshow(image[0], cmap=\"gray\")\n",
    "plt.show()"
   ]
  },
  {
   "cell_type": "code",
   "execution_count": 82,
   "id": "61e25562-fcba-47d3-a65b-b3cab309d9c0",
   "metadata": {
    "collapsed": true,
    "jupyter": {
     "outputs_hidden": true
    },
    "tags": []
   },
   "outputs": [
    {
     "name": "stderr",
     "output_type": "stream",
     "text": [
      "/tmp/ipykernel_519725/1477385736.py:1: FutureWarning: The input object of type 'Tensor' is an array-like implementing one of the corresponding protocols (`__array__`, `__array_interface__` or `__array_struct__`); but not a sequence (or 0-D). In the future, this object will be coerced as if it was first converted using `np.array(obj)`. To retain the old behaviour, you have to either modify the type 'Tensor', or assign to an empty array created with `np.empty(correct_shape, dtype=object)`.\n",
      "  training_data = np.array(training_data)\n",
      "/tmp/ipykernel_519725/1477385736.py:1: VisibleDeprecationWarning: Creating an ndarray from ragged nested sequences (which is a list-or-tuple of lists-or-tuples-or ndarrays with different lengths or shapes) is deprecated. If you meant to do this, you must specify 'dtype=object' when creating the ndarray.\n",
      "  training_data = np.array(training_data)\n",
      "/tmp/ipykernel_519725/1477385736.py:2: FutureWarning: The input object of type 'Tensor' is an array-like implementing one of the corresponding protocols (`__array__`, `__array_interface__` or `__array_struct__`); but not a sequence (or 0-D). In the future, this object will be coerced as if it was first converted using `np.array(obj)`. To retain the old behaviour, you have to either modify the type 'Tensor', or assign to an empty array created with `np.empty(correct_shape, dtype=object)`.\n",
      "  test_data  = np.array(test_data)\n",
      "/tmp/ipykernel_519725/1477385736.py:2: VisibleDeprecationWarning: Creating an ndarray from ragged nested sequences (which is a list-or-tuple of lists-or-tuples-or ndarrays with different lengths or shapes) is deprecated. If you meant to do this, you must specify 'dtype=object' when creating the ndarray.\n",
      "  test_data  = np.array(test_data)\n"
     ]
    }
   ],
   "source": [
    "training_data = np.array(training_data)\n",
    "test_data  = np.array(test_data)\n",
    "\n",
    "training_image, training_label = training_data.T\n",
    "test_image, test_data = test_data.T"
   ]
  },
  {
   "cell_type": "code",
   "execution_count": 83,
   "id": "54029f99-4b71-4422-8b47-5312923bf883",
   "metadata": {},
   "outputs": [],
   "source": [
    "# create custom Dataset\n",
    "class CustomImageDataset(Dataset):\n",
    "    def __init__(self, image_data, label_data, transform=None, target_transform=None):\n",
    "        self.image_data = image_data\n",
    "        self.label_data = label_data\n",
    "        \n",
    "        self.transform = transform\n",
    "        self.target_transform = target_transform\n",
    "\n",
    "    def __len__(self):\n",
    "        return len(self.img_labels)\n",
    "\n",
    "    def __getitem__(self, idx):\n",
    "        image = self.image_data[idx]\n",
    "        label = self.label_data[idx]\n",
    "        \n",
    "        return image, label        "
   ]
  },
  {
   "cell_type": "code",
   "execution_count": 84,
   "id": "f3298306-814b-433d-a05d-e94437b9d4d9",
   "metadata": {},
   "outputs": [],
   "source": [
    "train_loader = CustomImageDataset(training_image, training_label)\n",
    "test_loader = CustomImageDataset(test_image, training_label)"
   ]
  },
  {
   "cell_type": "code",
   "execution_count": null,
   "id": "755af34f-ff8f-4263-8fd4-6316f58a4ad7",
   "metadata": {},
   "outputs": [],
   "source": []
  },
  {
   "cell_type": "code",
   "execution_count": null,
   "id": "905c9a37-91b4-479c-8a43-f68af2c28710",
   "metadata": {},
   "outputs": [],
   "source": []
  },
  {
   "cell_type": "code",
   "execution_count": null,
   "id": "3c8aa79b-1a31-459c-b994-a50ec7cf62d1",
   "metadata": {},
   "outputs": [],
   "source": []
  }
 ],
 "metadata": {
  "kernelspec": {
   "display_name": "torch_110",
   "language": "python",
   "name": "torch_110"
  },
  "language_info": {
   "codemirror_mode": {
    "name": "ipython",
    "version": 3
   },
   "file_extension": ".py",
   "mimetype": "text/x-python",
   "name": "python",
   "nbconvert_exporter": "python",
   "pygments_lexer": "ipython3",
   "version": "3.9.12"
  }
 },
 "nbformat": 4,
 "nbformat_minor": 5
}
